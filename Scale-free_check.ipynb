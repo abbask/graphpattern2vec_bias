{
 "cells": [
  {
   "cell_type": "code",
   "execution_count": 29,
   "metadata": {},
   "outputs": [],
   "source": [
    "import pandas as pd\n",
    "import numpy as np\n",
    "import networkx as nx\n",
    "import collections\n",
    "from tqdm import tqdm\n",
    "import matplotlib.pyplot as plt\n",
    "from scipy import stats\n",
    "\n",
    "path = 'data/'"
   ]
  },
  {
   "cell_type": "code",
   "execution_count": 2,
   "metadata": {},
   "outputs": [],
   "source": [
    "def read_file(path, file_name):\n",
    "    df = pd.read_csv(path + file_name)\n",
    "    print('df {}: {}'.format(file_name, df.shape))\n",
    "    return df"
   ]
  },
  {
   "cell_type": "code",
   "execution_count": 3,
   "metadata": {},
   "outputs": [
    {
     "name": "stdout",
     "output_type": "stream",
     "text": [
      "df df_merge_cc.csv: (2886875, 6)\n"
     ]
    },
    {
     "data": {
      "text/html": [
       "<div>\n",
       "<style scoped>\n",
       "    .dataframe tbody tr th:only-of-type {\n",
       "        vertical-align: middle;\n",
       "    }\n",
       "\n",
       "    .dataframe tbody tr th {\n",
       "        vertical-align: top;\n",
       "    }\n",
       "\n",
       "    .dataframe thead th {\n",
       "        text-align: right;\n",
       "    }\n",
       "</style>\n",
       "<table border=\"1\" class=\"dataframe\">\n",
       "  <thead>\n",
       "    <tr style=\"text-align: right;\">\n",
       "      <th></th>\n",
       "      <th>h</th>\n",
       "      <th>t</th>\n",
       "      <th>r</th>\n",
       "      <th>h_id</th>\n",
       "      <th>t_id</th>\n",
       "      <th>r_id</th>\n",
       "    </tr>\n",
       "  </thead>\n",
       "  <tbody>\n",
       "    <tr>\n",
       "      <th>0</th>\n",
       "      <td>P41932</td>\n",
       "      <td>GO:0045167</td>\n",
       "      <td>hasBiologicalProcess</td>\n",
       "      <td>105518</td>\n",
       "      <td>157161</td>\n",
       "      <td>6</td>\n",
       "    </tr>\n",
       "    <tr>\n",
       "      <th>1</th>\n",
       "      <td>P41932</td>\n",
       "      <td>GO:0000132</td>\n",
       "      <td>hasBiologicalProcess</td>\n",
       "      <td>105518</td>\n",
       "      <td>103330</td>\n",
       "      <td>6</td>\n",
       "    </tr>\n",
       "  </tbody>\n",
       "</table>\n",
       "</div>"
      ],
      "text/plain": [
       "        h           t                     r    h_id    t_id  r_id\n",
       "0  P41932  GO:0045167  hasBiologicalProcess  105518  157161     6\n",
       "1  P41932  GO:0000132  hasBiologicalProcess  105518  103330     6"
      ]
     },
     "execution_count": 3,
     "metadata": {},
     "output_type": "execute_result"
    }
   ],
   "source": [
    "df_m = read_file(path, 'df_merge_cc.csv')\n",
    "df_m.head(2)"
   ]
  },
  {
   "cell_type": "code",
   "execution_count": 5,
   "metadata": {},
   "outputs": [
    {
     "name": "stdout",
     "output_type": "stream",
     "text": [
      "df df_nodes_cc.csv: (212557, 2)\n"
     ]
    },
    {
     "data": {
      "text/html": [
       "<div>\n",
       "<style scoped>\n",
       "    .dataframe tbody tr th:only-of-type {\n",
       "        vertical-align: middle;\n",
       "    }\n",
       "\n",
       "    .dataframe tbody tr th {\n",
       "        vertical-align: top;\n",
       "    }\n",
       "\n",
       "    .dataframe thead th {\n",
       "        text-align: right;\n",
       "    }\n",
       "</style>\n",
       "<table border=\"1\" class=\"dataframe\">\n",
       "  <thead>\n",
       "    <tr style=\"text-align: right;\">\n",
       "      <th></th>\n",
       "      <th>id</th>\n",
       "      <th>name</th>\n",
       "    </tr>\n",
       "  </thead>\n",
       "  <tbody>\n",
       "    <tr>\n",
       "      <th>0</th>\n",
       "      <td>0</td>\n",
       "      <td>Q90275</td>\n",
       "    </tr>\n",
       "    <tr>\n",
       "      <th>1</th>\n",
       "      <td>1</td>\n",
       "      <td>P58004</td>\n",
       "    </tr>\n",
       "  </tbody>\n",
       "</table>\n",
       "</div>"
      ],
      "text/plain": [
       "   id    name\n",
       "0   0  Q90275\n",
       "1   1  P58004"
      ]
     },
     "execution_count": 5,
     "metadata": {},
     "output_type": "execute_result"
    }
   ],
   "source": [
    "df_n = read_file(path, 'df_nodes_cc.csv')\n",
    "df_n.head(2)"
   ]
  },
  {
   "cell_type": "code",
   "execution_count": 6,
   "metadata": {},
   "outputs": [],
   "source": [
    "lst_node_ids = df_n['id']"
   ]
  },
  {
   "cell_type": "code",
   "execution_count": 7,
   "metadata": {},
   "outputs": [],
   "source": [
    "def load_graph( df, col_ids = ['h_id','t_id', 'r_id']):\n",
    "\n",
    "    print('__check_connectivity| df : {}'.format(df.shape))\n",
    "    df_edges = df[col_ids]\n",
    "    edges = [tuple(x) for x in df_edges.values]\n",
    "    print('__check_connectivity| edges: {}'.format(len(edges)))\n",
    "\n",
    "    GRAPH = nx.Graph()\n",
    "    GRAPH.add_weighted_edges_from(edges)\n",
    "    \n",
    "    return GRAPH"
   ]
  },
  {
   "cell_type": "code",
   "execution_count": 10,
   "metadata": {},
   "outputs": [
    {
     "name": "stdout",
     "output_type": "stream",
     "text": [
      "__check_connectivity| df : (2886875, 6)\n",
      "__check_connectivity| edges: 2886875\n"
     ]
    }
   ],
   "source": [
    "G = load_graph(df_m)"
   ]
  },
  {
   "cell_type": "code",
   "execution_count": 21,
   "metadata": {},
   "outputs": [],
   "source": [
    "degree_sequence = sorted([d for n, d in G.degree()], reverse=True)  # degree sequence\n",
    "degreeCount = collections.Counter(degree_sequence)"
   ]
  },
  {
   "cell_type": "code",
   "execution_count": 102,
   "metadata": {},
   "outputs": [
    {
     "data": {
      "image/png": "[encoded data removed]",
      "text/plain": [
       "<Figure size 720x720 with 1 Axes>"
      ]
     },
     "metadata": {
      "needs_background": "light"
     },
     "output_type": "display_data"
    }
   ],
   "source": [
    "deg, cnt = zip(*degreeCount.items())\n",
    "fig = plt.figure(figsize =(10,10))\n",
    "plt.bar(deg, cnt, width=0.80, color='b', log =True)\n",
    "\n",
    "plt.title(\"Degree Histogram\")\n",
    "plt.ylabel(\"Count\")\n",
    "plt.xlabel(\"Degree\")\n",
    "# ax.set_xticks([d + 0.4 for d in deg])\n",
    "# ax.set_xticklabels(deg)\n",
    "plt.show()"
   ]
  },
  {
   "cell_type": "code",
   "execution_count": 98,
   "metadata": {},
   "outputs": [
    {
     "data": {
      "text/plain": [
       "KstestResult(statistic=1.0, pvalue=0.0)"
      ]
     },
     "execution_count": 98,
     "metadata": {},
     "output_type": "execute_result"
    }
   ],
   "source": [
    "a = 1.9\n",
    "# kwargs = {\"a\": a}\n",
    "args =[a]\n",
    "stats.kstest(deg, 'powerlaw', args=args)\n",
    "# stats.kstest(deg, 'powerlaw', **kwargs)\n",
    "# https://www.digitalocean.com/community/tutorials/how-to-use-args-and-kwargs-in-python-3"
   ]
  },
  {
   "cell_type": "code",
   "execution_count": 99,
   "metadata": {},
   "outputs": [
    {
     "data": {
      "text/plain": [
       "(0.49419414715684246, 0.9999999999999999, 5013.2732850218745)"
      ]
     },
     "execution_count": 99,
     "metadata": {},
     "output_type": "execute_result"
    }
   ],
   "source": [
    "from networkx.utils import powerlaw_sequence\n",
    "pl_sequence = powerlaw_sequence(1000,exponent=2.5)\n",
    "\n",
    "fitted_pl = stats.powerlaw.fit(deg)\n",
    "# pl_sequence -> (0.15683325844803264, 1.0002786443332128, 305.631936804142)\n",
    "# deg         -> (0.49419414715684246, 0.9999999999999999, 5013.2732850218745)\n",
    "\n",
    "fitted_pl\n"
   ]
  },
  {
   "cell_type": "code",
   "execution_count": 100,
   "metadata": {},
   "outputs": [
    {
     "name": "stdout",
     "output_type": "stream",
     "text": [
      "[(200, 1.5533859833992983e-85),\n",
      " (400, 2.886579864025407e-15),\n",
      " (600, 2.220446049250313e-16),\n",
      " (800, 0.0004667389081947082)]\n"
     ]
    }
   ],
   "source": [
    "from pprint import pprint\n",
    "pprint ([(i, stats.ks_2samp(deg, deg[:i])[1]) for i in range(200,len(deg),200)])"
   ]
  },
  {
   "cell_type": "code",
   "execution_count": 86,
   "metadata": {},
   "outputs": [
    {
     "data": {
      "text/plain": [
       "KstestResult(statistic=0.008002577626569918, pvalue=0.5437230826096209)"
      ]
     },
     "execution_count": 86,
     "metadata": {},
     "output_type": "execute_result"
    }
   ],
   "source": [
    "np.random.seed(seed=123)\n",
    "x = np.random.uniform(low=0, high=1, size=(10000, 1))\n",
    "stats.kstest(x.ravel(), 'uniform')"
   ]
  },
  {
   "cell_type": "code",
   "execution_count": null,
   "metadata": {},
   "outputs": [],
   "source": []
  },
  {
   "cell_type": "code",
   "execution_count": 93,
   "metadata": {},
   "outputs": [],
   "source": [
    "from scipy import log\n",
    "import numpy.random\n",
    "\n",
    "alpha = 3\n",
    "n = 5000\n",
    "x = numpy.random.zipf(alpha, n)"
   ]
  },
  {
   "cell_type": "code",
   "execution_count": 97,
   "metadata": {},
   "outputs": [
    {
     "data": {
      "text/plain": [
       "1.934824985084516"
      ]
     },
     "execution_count": 97,
     "metadata": {},
     "output_type": "execute_result"
    }
   ],
   "source": [
    "alpha_hat = 1 + n / sum(log(deg))\n",
    "alpha_hat"
   ]
  },
  {
   "cell_type": "code",
   "execution_count": 96,
   "metadata": {},
   "outputs": [
    {
     "name": "stdout",
     "output_type": "stream",
     "text": [
      "2.9557304245233538\n"
     ]
    }
   ],
   "source": [
    "from scipy import log\n",
    "from scipy.special import zeta\n",
    "from scipy.optimize import bisect \n",
    "#https://www.johndcook.com/blog/2015/11/24/estimating-the-exponent-of-discrete-power-law-data/\n",
    "\n",
    "xmin = 1\n",
    "\n",
    "def log_zeta(x):\n",
    "    return log(zeta(x, 1))\n",
    "\n",
    "def log_deriv_zeta(x):\n",
    "    h = 1e-5\n",
    "    return (log_zeta(x+h) - log_zeta(x-h))/(2*h)\n",
    "\n",
    "t = -sum( log(x/xmin) )/n\n",
    "def objective(x):\n",
    "    return log_deriv_zeta(x) - t\n",
    "\n",
    "a, b = 1.01, 10\n",
    "alpha_hat = bisect(objective, a, b, xtol=1e-6)\n",
    "print(alpha_hat)"
   ]
  },
  {
   "cell_type": "code",
   "execution_count": null,
   "metadata": {},
   "outputs": [],
   "source": []
  }
 ],
 "metadata": {
  "kernelspec": {
   "display_name": "Python [conda env:py37] *",
   "language": "python",
   "name": "conda-env-py37-py"
  },
  "language_info": {
   "codemirror_mode": {
    "name": "ipython",
    "version": 3
   },
   "file_extension": ".py",
   "mimetype": "text/x-python",
   "name": "python",
   "nbconvert_exporter": "python",
   "pygments_lexer": "ipython3",
   "version": "3.7.5"
  }
 },
 "nbformat": 4,
 "nbformat_minor": 2
}
