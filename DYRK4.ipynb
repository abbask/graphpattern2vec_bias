{
 "cells": [
  {
   "cell_type": "code",
   "execution_count": 1,
   "metadata": {},
   "outputs": [],
   "source": [
    "import pandas as pd\n",
    "from tqdm import tqdm\n",
    "import numpy as np\n",
    "import csv"
   ]
  },
  {
   "cell_type": "code",
   "execution_count": 2,
   "metadata": {},
   "outputs": [],
   "source": [
    "data = 'data/results/'"
   ]
  },
  {
   "cell_type": "code",
   "execution_count": 10,
   "metadata": {},
   "outputs": [],
   "source": [
    "prediction_all_file = 'prediction_with_names_emb-pro-x-pro-path-40-40-graphpattern2vec-biased-v4_ALL1.csv'\n",
    "prediction_FD_file  = 'prediction_with_names_emb-pro-x-pro-path-40-40-graphpattern2vec-biased-v4_FD1.csv'"
   ]
  },
  {
   "cell_type": "code",
   "execution_count": 9,
   "metadata": {},
   "outputs": [
    {
     "name": "stdout",
     "output_type": "stream",
     "text": [
      "df_pred_all: (19063, 5)\n",
      "df_pred_all_DYRK4: (174, 5)\n"
     ]
    },
    {
     "data": {
      "text/html": [
       "<div>\n",
       "<style scoped>\n",
       "    .dataframe tbody tr th:only-of-type {\n",
       "        vertical-align: middle;\n",
       "    }\n",
       "\n",
       "    .dataframe tbody tr th {\n",
       "        vertical-align: top;\n",
       "    }\n",
       "\n",
       "    .dataframe thead th {\n",
       "        text-align: right;\n",
       "    }\n",
       "</style>\n",
       "<table border=\"1\" class=\"dataframe\">\n",
       "  <thead>\n",
       "    <tr style=\"text-align: right;\">\n",
       "      <th></th>\n",
       "      <th>uniprot</th>\n",
       "      <th>protein_name</th>\n",
       "      <th>pathway_id</th>\n",
       "      <th>pathway_name</th>\n",
       "      <th>score</th>\n",
       "    </tr>\n",
       "  </thead>\n",
       "  <tbody>\n",
       "    <tr>\n",
       "      <th>102</th>\n",
       "      <td>Q9NR20</td>\n",
       "      <td>{'DYRK4'}</td>\n",
       "      <td>450302</td>\n",
       "      <td>{'activated TAK1 mediates p38 MAPK activation'}</td>\n",
       "      <td>0.999561</td>\n",
       "    </tr>\n",
       "    <tr>\n",
       "      <th>137</th>\n",
       "      <td>Q9NR20</td>\n",
       "      <td>{'DYRK4'}</td>\n",
       "      <td>1538133</td>\n",
       "      <td>{'G0 and Early G1'}</td>\n",
       "      <td>0.999365</td>\n",
       "    </tr>\n",
       "  </tbody>\n",
       "</table>\n",
       "</div>"
      ],
      "text/plain": [
       "    uniprot protein_name  pathway_id  \\\n",
       "102  Q9NR20    {'DYRK4'}      450302   \n",
       "137  Q9NR20    {'DYRK4'}     1538133   \n",
       "\n",
       "                                        pathway_name     score  \n",
       "102  {'activated TAK1 mediates p38 MAPK activation'}  0.999561  \n",
       "137                              {'G0 and Early G1'}  0.999365  "
      ]
     },
     "execution_count": 9,
     "metadata": {},
     "output_type": "execute_result"
    }
   ],
   "source": [
    "df_pred_all = pd.read_csv(data + prediction_all_file)\n",
    "print('df_pred_all: {}'.format(df_pred_all.shape))\n",
    "# df_pred_all.head(2)\n",
    "\n",
    "df_pred_all_DYRK4 = df_pred_all[df_pred_all['uniprot'] == 'Q9NR20'] # uniprot Q9NR20\n",
    "print('df_pred_all_DYRK4: {}'.format(df_pred_all_DYRK4.shape))\n",
    "df_pred_all_DYRK4.head(2)"
   ]
  },
  {
   "cell_type": "code",
   "execution_count": 13,
   "metadata": {},
   "outputs": [
    {
     "name": "stdout",
     "output_type": "stream",
     "text": [
      "df_pred_FD: (3305, 5)\n",
      "df_pred_FD_DYRK4: (0, 5)\n"
     ]
    },
    {
     "data": {
      "text/html": [
       "<div>\n",
       "<style scoped>\n",
       "    .dataframe tbody tr th:only-of-type {\n",
       "        vertical-align: middle;\n",
       "    }\n",
       "\n",
       "    .dataframe tbody tr th {\n",
       "        vertical-align: top;\n",
       "    }\n",
       "\n",
       "    .dataframe thead th {\n",
       "        text-align: right;\n",
       "    }\n",
       "</style>\n",
       "<table border=\"1\" class=\"dataframe\">\n",
       "  <thead>\n",
       "    <tr style=\"text-align: right;\">\n",
       "      <th></th>\n",
       "      <th>uniprot</th>\n",
       "      <th>protein_name</th>\n",
       "      <th>pathway_id</th>\n",
       "      <th>pathway_name</th>\n",
       "      <th>score</th>\n",
       "    </tr>\n",
       "  </thead>\n",
       "  <tbody>\n",
       "  </tbody>\n",
       "</table>\n",
       "</div>"
      ],
      "text/plain": [
       "Empty DataFrame\n",
       "Columns: [uniprot, protein_name, pathway_id, pathway_name, score]\n",
       "Index: []"
      ]
     },
     "execution_count": 13,
     "metadata": {},
     "output_type": "execute_result"
    }
   ],
   "source": [
    "# seems to missed lots of dark kinase\n",
    "\n",
    "# df_pred_FD = pd.read_csv(data + prediction_FD_file)\n",
    "# print('df_pred_FD: {}'.format(df_pred_FD.shape))\n",
    "# df_pred_all.head(2)\n",
    "\n",
    "# df_pred_FD_DYRK4 = df_pred_FD[df_pred_FD['uniprot'] == 'Q9NR20'] # uniprot Q9NR20\n",
    "# print('df_pred_FD_DYRK4: {}'.format(df_pred_FD_DYRK4.shape))\n",
    "# df_pred_FD_DYRK4.head(2)"
   ]
  },
  {
   "cell_type": "code",
   "execution_count": 18,
   "metadata": {},
   "outputs": [
    {
     "data": {
      "text/html": [
       "<div>\n",
       "<style scoped>\n",
       "    .dataframe tbody tr th:only-of-type {\n",
       "        vertical-align: middle;\n",
       "    }\n",
       "\n",
       "    .dataframe tbody tr th {\n",
       "        vertical-align: top;\n",
       "    }\n",
       "\n",
       "    .dataframe thead th {\n",
       "        text-align: right;\n",
       "    }\n",
       "</style>\n",
       "<table border=\"1\" class=\"dataframe\">\n",
       "  <thead>\n",
       "    <tr style=\"text-align: right;\">\n",
       "      <th></th>\n",
       "      <th>uniprot</th>\n",
       "      <th>protein_name</th>\n",
       "      <th>pathway_id</th>\n",
       "      <th>pathway_name</th>\n",
       "      <th>score</th>\n",
       "    </tr>\n",
       "  </thead>\n",
       "  <tbody>\n",
       "    <tr>\n",
       "      <th>102</th>\n",
       "      <td>Q9NR20</td>\n",
       "      <td>{'DYRK4'}</td>\n",
       "      <td>450302</td>\n",
       "      <td>{'activated TAK1 mediates p38 MAPK activation'}</td>\n",
       "      <td>0.999561</td>\n",
       "    </tr>\n",
       "    <tr>\n",
       "      <th>137</th>\n",
       "      <td>Q9NR20</td>\n",
       "      <td>{'DYRK4'}</td>\n",
       "      <td>1538133</td>\n",
       "      <td>{'G0 and Early G1'}</td>\n",
       "      <td>0.999365</td>\n",
       "    </tr>\n",
       "    <tr>\n",
       "      <th>175</th>\n",
       "      <td>Q9NR20</td>\n",
       "      <td>{'DYRK4'}</td>\n",
       "      <td>450321</td>\n",
       "      <td>{'JNK (c-Jun kinases) phosphorylation and  act...</td>\n",
       "      <td>0.999076</td>\n",
       "    </tr>\n",
       "    <tr>\n",
       "      <th>287</th>\n",
       "      <td>Q9NR20</td>\n",
       "      <td>{'DYRK4'}</td>\n",
       "      <td>9014325</td>\n",
       "      <td>{'TICAM1,TRAF6-dependent induction of TAK1 com...</td>\n",
       "      <td>0.998170</td>\n",
       "    </tr>\n",
       "    <tr>\n",
       "      <th>980</th>\n",
       "      <td>Q9NR20</td>\n",
       "      <td>{'DYRK4'}</td>\n",
       "      <td>1362277</td>\n",
       "      <td>{'Transcription of E2F targets under negative ...</td>\n",
       "      <td>0.989550</td>\n",
       "    </tr>\n",
       "    <tr>\n",
       "      <th>...</th>\n",
       "      <td>...</td>\n",
       "      <td>...</td>\n",
       "      <td>...</td>\n",
       "      <td>...</td>\n",
       "      <td>...</td>\n",
       "    </tr>\n",
       "    <tr>\n",
       "      <th>7914</th>\n",
       "      <td>Q9NR20</td>\n",
       "      <td>{'DYRK4'}</td>\n",
       "      <td>350054</td>\n",
       "      <td>{'Notch-HLH transcription pathway'}</td>\n",
       "      <td>0.819928</td>\n",
       "    </tr>\n",
       "    <tr>\n",
       "      <th>8039</th>\n",
       "      <td>Q9NR20</td>\n",
       "      <td>{'DYRK4'}</td>\n",
       "      <td>198765</td>\n",
       "      <td>{'Signalling to ERK5'}</td>\n",
       "      <td>0.816084</td>\n",
       "    </tr>\n",
       "    <tr>\n",
       "      <th>8110</th>\n",
       "      <td>Q9NR20</td>\n",
       "      <td>{'DYRK4'}</td>\n",
       "      <td>6796648</td>\n",
       "      <td>{'TP53 Regulates Transcription of DNA Repair G...</td>\n",
       "      <td>0.813631</td>\n",
       "    </tr>\n",
       "    <tr>\n",
       "      <th>8386</th>\n",
       "      <td>Q9NR20</td>\n",
       "      <td>{'DYRK4'}</td>\n",
       "      <td>937042</td>\n",
       "      <td>{'IRAK2 mediated activation of TAK1 complex'}</td>\n",
       "      <td>0.805789</td>\n",
       "    </tr>\n",
       "    <tr>\n",
       "      <th>8489</th>\n",
       "      <td>Q9NR20</td>\n",
       "      <td>{'DYRK4'}</td>\n",
       "      <td>5655302</td>\n",
       "      <td>{'Signaling by FGFR1 in disease'}</td>\n",
       "      <td>0.802413</td>\n",
       "    </tr>\n",
       "  </tbody>\n",
       "</table>\n",
       "<p>68 rows × 5 columns</p>\n",
       "</div>"
      ],
      "text/plain": [
       "     uniprot protein_name  pathway_id  \\\n",
       "102   Q9NR20    {'DYRK4'}      450302   \n",
       "137   Q9NR20    {'DYRK4'}     1538133   \n",
       "175   Q9NR20    {'DYRK4'}      450321   \n",
       "287   Q9NR20    {'DYRK4'}     9014325   \n",
       "980   Q9NR20    {'DYRK4'}     1362277   \n",
       "...      ...          ...         ...   \n",
       "7914  Q9NR20    {'DYRK4'}      350054   \n",
       "8039  Q9NR20    {'DYRK4'}      198765   \n",
       "8110  Q9NR20    {'DYRK4'}     6796648   \n",
       "8386  Q9NR20    {'DYRK4'}      937042   \n",
       "8489  Q9NR20    {'DYRK4'}     5655302   \n",
       "\n",
       "                                           pathway_name     score  \n",
       "102     {'activated TAK1 mediates p38 MAPK activation'}  0.999561  \n",
       "137                                 {'G0 and Early G1'}  0.999365  \n",
       "175   {'JNK (c-Jun kinases) phosphorylation and  act...  0.999076  \n",
       "287   {'TICAM1,TRAF6-dependent induction of TAK1 com...  0.998170  \n",
       "980   {'Transcription of E2F targets under negative ...  0.989550  \n",
       "...                                                 ...       ...  \n",
       "7914                {'Notch-HLH transcription pathway'}  0.819928  \n",
       "8039                             {'Signalling to ERK5'}  0.816084  \n",
       "8110  {'TP53 Regulates Transcription of DNA Repair G...  0.813631  \n",
       "8386      {'IRAK2 mediated activation of TAK1 complex'}  0.805789  \n",
       "8489                  {'Signaling by FGFR1 in disease'}  0.802413  \n",
       "\n",
       "[68 rows x 5 columns]"
      ]
     },
     "execution_count": 18,
     "metadata": {},
     "output_type": "execute_result"
    }
   ],
   "source": [
    "df_more_80 = df_pred_all_DYRK4[df_pred_all_DYRK4['score'] > 0.80]\n",
    "df_more_80"
   ]
  },
  {
   "cell_type": "code",
   "execution_count": 19,
   "metadata": {},
   "outputs": [],
   "source": [
    "df_more_80.to_csv('data/prediction_DYRK4_highscore.csv')"
   ]
  },
  {
   "cell_type": "code",
   "execution_count": 20,
   "metadata": {},
   "outputs": [],
   "source": [
    "df_pred_all_DYRK4.to_csv('data/prediction_DYRK4_ALL.csv')"
   ]
  },
  {
   "cell_type": "code",
   "execution_count": 28,
   "metadata": {},
   "outputs": [
    {
     "data": {
      "text/plain": [
       "152"
      ]
     },
     "execution_count": 28,
     "metadata": {},
     "output_type": "execute_result"
    }
   ],
   "source": [
    "len(list(df_pred_all['uniprot'].unique()))"
   ]
  },
  {
   "cell_type": "code",
   "execution_count": null,
   "metadata": {},
   "outputs": [],
   "source": []
  },
  {
   "cell_type": "markdown",
   "metadata": {},
   "source": [
    "# Why for FD has low number of prediction"
   ]
  },
  {
   "cell_type": "code",
   "execution_count": 23,
   "metadata": {},
   "outputs": [
    {
     "name": "stdout",
     "output_type": "stream",
     "text": [
      "df_pred_FD: (3305, 5)\n"
     ]
    },
    {
     "data": {
      "text/html": [
       "<div>\n",
       "<style scoped>\n",
       "    .dataframe tbody tr th:only-of-type {\n",
       "        vertical-align: middle;\n",
       "    }\n",
       "\n",
       "    .dataframe tbody tr th {\n",
       "        vertical-align: top;\n",
       "    }\n",
       "\n",
       "    .dataframe thead th {\n",
       "        text-align: right;\n",
       "    }\n",
       "</style>\n",
       "<table border=\"1\" class=\"dataframe\">\n",
       "  <thead>\n",
       "    <tr style=\"text-align: right;\">\n",
       "      <th></th>\n",
       "      <th>uniprot</th>\n",
       "      <th>protein_name</th>\n",
       "      <th>pathway_id</th>\n",
       "      <th>pathway_name</th>\n",
       "      <th>score</th>\n",
       "    </tr>\n",
       "  </thead>\n",
       "  <tbody>\n",
       "    <tr>\n",
       "      <th>0</th>\n",
       "      <td>Q5VT25</td>\n",
       "      <td>{'CDC42BPA'}</td>\n",
       "      <td>444257</td>\n",
       "      <td>{'RSK activation'}</td>\n",
       "      <td>0.999999</td>\n",
       "    </tr>\n",
       "    <tr>\n",
       "      <th>1</th>\n",
       "      <td>Q5VT25</td>\n",
       "      <td>{'CDC42BPA'}</td>\n",
       "      <td>442742</td>\n",
       "      <td>{'CREB1 phosphorylation through NMDA receptor-...</td>\n",
       "      <td>0.999998</td>\n",
       "    </tr>\n",
       "  </tbody>\n",
       "</table>\n",
       "</div>"
      ],
      "text/plain": [
       "  uniprot  protein_name  pathway_id  \\\n",
       "0  Q5VT25  {'CDC42BPA'}      444257   \n",
       "1  Q5VT25  {'CDC42BPA'}      442742   \n",
       "\n",
       "                                        pathway_name     score  \n",
       "0                                 {'RSK activation'}  0.999999  \n",
       "1  {'CREB1 phosphorylation through NMDA receptor-...  0.999998  "
      ]
     },
     "execution_count": 23,
     "metadata": {},
     "output_type": "execute_result"
    }
   ],
   "source": [
    "df_pred_FD = pd.read_csv(data + prediction_FD_file)\n",
    "print('df_pred_FD: {}'.format(df_pred_FD.shape))\n",
    "df_pred_FD.head(2)"
   ]
  },
  {
   "cell_type": "code",
   "execution_count": 25,
   "metadata": {},
   "outputs": [
    {
     "data": {
      "text/plain": [
       "63"
      ]
     },
     "execution_count": 25,
     "metadata": {},
     "output_type": "execute_result"
    }
   ],
   "source": [
    "list_pro_pred_FD = list(df_pred_FD['uniprot'].unique())\n",
    "len(list_pro_pred_FD)"
   ]
  },
  {
   "cell_type": "code",
   "execution_count": 29,
   "metadata": {},
   "outputs": [
    {
     "data": {
      "text/plain": [
       "False"
      ]
     },
     "execution_count": 29,
     "metadata": {},
     "output_type": "execute_result"
    }
   ],
   "source": [
    "'Q9NR20' in df_pred_FD"
   ]
  },
  {
   "cell_type": "code",
   "execution_count": null,
   "metadata": {},
   "outputs": [],
   "source": []
  }
 ],
 "metadata": {
  "kernelspec": {
   "display_name": "Python [conda env:py37] *",
   "language": "python",
   "name": "conda-env-py37-py"
  },
  "language_info": {
   "codemirror_mode": {
    "name": "ipython",
    "version": 3
   },
   "file_extension": ".py",
   "mimetype": "text/x-python",
   "name": "python",
   "nbconvert_exporter": "python",
   "pygments_lexer": "ipython3",
   "version": "3.7.5"
  }
 },
 "nbformat": 4,
 "nbformat_minor": 2
}
