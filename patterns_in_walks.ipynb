{
 "cells": [
  {
   "cell_type": "code",
   "execution_count": 61,
   "metadata": {},
   "outputs": [],
   "source": [
    "import pandas as pd\n",
    "from tqdm import tqdm\n",
    "import numpy as np\n",
    "import csv\n",
    "import pickle\n",
    "import matplotlib.pyplot as plt\n",
    "\n",
    "path='data/'"
   ]
  },
  {
   "cell_type": "code",
   "execution_count": 62,
   "metadata": {},
   "outputs": [],
   "source": [
    "def load_node_to_class(data_path, node_to_class_file):\n",
    "    with open(data_path + node_to_class_file + '.pkl', 'rb') as f:\n",
    "        d_node_to_class = pickle.load(f)\n",
    "    print('load_node_to_class| __d_node_to_class: {}'.format(len(d_node_to_class)))\n",
    "    return d_node_to_class"
   ]
  },
  {
   "cell_type": "code",
   "execution_count": 63,
   "metadata": {},
   "outputs": [
    {
     "name": "stdout",
     "output_type": "stream",
     "text": [
      "load_node_to_class| __d_node_to_class: 212557\n"
     ]
    }
   ],
   "source": [
    "d_n_c = load_node_to_class('data/', 'dict_node_to_class')\n",
    "# d_n_c"
   ]
  },
  {
   "cell_type": "code",
   "execution_count": 64,
   "metadata": {},
   "outputs": [],
   "source": [
    "def hist_array(a, title='Histogram of ppi frequency', bins='auto'):\n",
    "    \n",
    "    print('__hist_array| min: {}, max: {}'.format(np.min(a), np.max(a)))\n",
    "    _ = plt.hist(a, bins=bins)  # arguments are passed to np.histogram\n",
    "    plt.title(title)\n",
    "\n",
    "    plt.show()\n",
    "    \n",
    "def scatter(x,y, title, figsize=(7,7), reg=True):\n",
    "\n",
    "\n",
    "    fig = plt.figure(figsize =(10,10))\n",
    "    \n",
    "    plt.scatter(x, y)\n",
    "\n",
    "    plt.title(\"scatter of {} \".format(title))\n",
    "#     plt.ylabel(\"log of frequency\")\n",
    "#     plt.xlabel(\"log of Degree\")\n",
    "    # ax.set_xticks([d + 0.4 for d in deg])\n",
    "    # ax.set_xticklabels(deg)\n",
    "    plt.show()\n",
    "    \n",
    "def read_symbols_walks(path, walk_file_name, d_n_c):\n",
    "    dict_patt = dict()\n",
    "    pat_set = set()\n",
    "    max_len = 0 \n",
    "    for line in tqdm(open(path + walk_file_name, 'r')):\n",
    "        w = line.strip().split(' ')\n",
    "        w = np.array(w, dtype=object) \n",
    "        if len(w) > max_len:\n",
    "            max_len = len(w)\n",
    "        symbols = [d_n_c[int(i[1:])] for i in w ]\n",
    "        st = 0\n",
    "\n",
    "        for i in range(len(symbols)):\n",
    "            if symbols[i] == 'Pathway':\n",
    "                pat = symbols[st:i+1]\n",
    "                st = i+1\n",
    "                \n",
    "                t = tuple(pat)\n",
    "                if t not in dict_patt:\n",
    "                    dict_patt[t] = 0\n",
    "                \n",
    "                dict_patt[t]+=1\n",
    "                \n",
    "                pat_set.add(tuple(t))\n",
    "#                 print(pat_set)\n",
    "    print('Maximum Length: {}'.format(max_len))\n",
    "    patts_list = list(pat_set)\n",
    "    patts_list.sort(key=len)\n",
    "    return patts_list, dict_patt"
   ]
  },
  {
   "cell_type": "code",
   "execution_count": 65,
   "metadata": {},
   "outputs": [
    {
     "name": "stderr",
     "output_type": "stream",
     "text": [
      "6786400it [02:12, 51392.76it/s] "
     ]
    },
    {
     "name": "stdout",
     "output_type": "stream",
     "text": [
      "Maximum Length: 41\n"
     ]
    },
    {
     "name": "stderr",
     "output_type": "stream",
     "text": [
      "\n"
     ]
    },
    {
     "data": {
      "text/plain": [
       "30"
      ]
     },
     "execution_count": 65,
     "metadata": {},
     "output_type": "execute_result"
    }
   ],
   "source": [
    "walk_file_all = 'walks-pro-x-pro-path-40-40-graphpattern2vec-biased-v4_ALL-vCH_br'\n",
    "patts_all, d_patts_all = read_symbols_walks(path, walk_file_all, d_n_c)\n",
    "len(patts_all)"
   ]
  },
  {
   "cell_type": "code",
   "execution_count": 67,
   "metadata": {},
   "outputs": [
    {
     "name": "stdout",
     "output_type": "stream",
     "text": [
      "('Protein', 'MF', 'Protein', 'Pathway')\n",
      "('Protein', 'PTM', 'Protein', 'Pathway')\n",
      "('Protein', 'FD', 'Protein', 'Pathway')\n",
      "('Protein', 'CC', 'Protein', 'Pathway')\n",
      "('Protein', 'BP', 'Protein', 'Pathway')\n",
      "('Protein', 'BP', 'Protein', 'CC', 'Protein', 'Pathway')\n",
      "('Protein', 'CC', 'Protein', 'MF', 'Protein', 'Pathway')\n",
      "('Protein', 'MF', 'Protein', 'MF', 'Protein', 'Pathway')\n",
      "('Protein', 'MF', 'Protein', 'CC', 'Protein', 'Pathway')\n",
      "('Protein', 'CC', 'Protein', 'CC', 'Protein', 'Pathway')\n",
      "('Protein', 'PTM', 'Protein', 'PTM', 'Protein', 'Pathway')\n",
      "('Protein', 'BP', 'Protein', 'MF', 'Protein', 'Pathway')\n",
      "('Protein', 'BP', 'Protein', 'BP', 'Protein', 'Pathway')\n",
      "('Protein', 'MF', 'Protein', 'PTM', 'Protein', 'Pathway')\n",
      "('Protein', 'CC', 'Protein', 'FD', 'Protein', 'Pathway')\n",
      "('Protein', 'PTM', 'Protein', 'CC', 'Protein', 'Pathway')\n",
      "('Protein', 'FD', 'Protein', 'BP', 'Protein', 'Pathway')\n",
      "('Protein', 'CC', 'Protein', 'BP', 'Protein', 'Pathway')\n",
      "('Protein', 'BP', 'Protein', 'FD', 'Protein', 'Pathway')\n",
      "('Protein', 'FD', 'Protein', 'CC', 'Protein', 'Pathway')\n",
      "('Protein', 'MF', 'Protein', 'BP', 'Protein', 'Pathway')\n",
      "('Protein', 'BP', 'Protein', 'PTM', 'Protein', 'Pathway')\n",
      "('Protein', 'FD', 'Protein', 'PTM', 'Protein', 'Pathway')\n",
      "('Protein', 'PTM', 'Protein', 'BP', 'Protein', 'Pathway')\n",
      "('Protein', 'CC', 'Protein', 'PTM', 'Protein', 'Pathway')\n",
      "('Protein', 'FD', 'Protein', 'MF', 'Protein', 'Pathway')\n",
      "('Protein', 'PTM', 'Protein', 'FD', 'Protein', 'Pathway')\n",
      "('Protein', 'FD', 'Protein', 'FD', 'Protein', 'Pathway')\n",
      "('Protein', 'PTM', 'Protein', 'MF', 'Protein', 'Pathway')\n",
      "('Protein', 'MF', 'Protein', 'FD', 'Protein', 'Pathway')\n"
     ]
    }
   ],
   "source": [
    "for ch in patts_all:\n",
    "    print(ch)"
   ]
  },
  {
   "cell_type": "code",
   "execution_count": 51,
   "metadata": {},
   "outputs": [
    {
     "data": {
      "text/plain": [
       "19"
      ]
     },
     "execution_count": 51,
     "metadata": {},
     "output_type": "execute_result"
    }
   ],
   "source": [
    "dict_len_to_patt_all = dict()\n",
    "for p in patts_all:\n",
    "    l = len(p)\n",
    "    if l not in dict_len_to_patt_all:\n",
    "        dict_len_to_patt_all[l] = list()\n",
    "    dict_len_to_patt_all[l].append(p)\n",
    "len(dict_len_to_patt_all)"
   ]
  },
  {
   "cell_type": "code",
   "execution_count": 55,
   "metadata": {},
   "outputs": [
    {
     "data": {
      "text/plain": [
       "{4: 6265186,\n",
       " 6: 35533925,\n",
       " 8: 125645,\n",
       " 7: 896710,\n",
       " 9: 28334,\n",
       " 5: 499797,\n",
       " 10: 8563,\n",
       " 11: 3011,\n",
       " 12: 1218,\n",
       " 13: 527,\n",
       " 14: 182,\n",
       " 17: 27,\n",
       " 16: 55,\n",
       " 18: 17,\n",
       " 15: 101,\n",
       " 19: 10,\n",
       " 21: 3,\n",
       " 25: 1,\n",
       " 20: 5}"
      ]
     },
     "execution_count": 55,
     "metadata": {},
     "output_type": "execute_result"
    }
   ],
   "source": [
    "dict_len_to_instances = dict()\n",
    "for p in d_patts_all:\n",
    "    l = len(p)\n",
    "    if l not in dict_len_to_instances:\n",
    "        dict_len_to_instances[l] = 0\n",
    "    dict_len_to_instances[l]+=d_patts_all[p]\n",
    "dict_len_to_instances"
   ]
  },
  {
   "cell_type": "code",
   "execution_count": 60,
   "metadata": {},
   "outputs": [
    {
     "data": {
      "image/png": "[encoded data removed]",
      "text/plain": [
       "<Figure size 720x720 with 1 Axes>"
      ]
     },
     "metadata": {
      "needs_background": "light"
     },
     "output_type": "display_data"
    }
   ],
   "source": [
    "x, y = np.array(list(dict_len_to_instances.keys())), np.array(list(dict_len_to_instances.values()))\n",
    "scatter(x, y, 'x = len of pattern, y = number of instance ')\n"
   ]
  },
  {
   "cell_type": "code",
   "execution_count": 17,
   "metadata": {},
   "outputs": [],
   "source": [
    "# freq_patterns = list(d_patts_all.values())\n",
    "# hist_array(freq_patterns)"
   ]
  },
  {
   "cell_type": "code",
   "execution_count": 16,
   "metadata": {},
   "outputs": [],
   "source": [
    "# l = list(d_patts_all.values())\n",
    "# hist_array(l)"
   ]
  },
  {
   "cell_type": "markdown",
   "metadata": {},
   "source": [
    "#### Filter walks based on patterns length"
   ]
  },
  {
   "cell_type": "code",
   "execution_count": 38,
   "metadata": {},
   "outputs": [],
   "source": [
    "\n",
    "def read_symbols_walks(path, walk_file_name, d_n_c):\n",
    "    dict_patt = dict()\n",
    "    pat_set = set()\n",
    "    max_len = 0 \n",
    "    for line in open(path + walk_file_name, 'r'):\n",
    "        w = line.strip().split(' ')\n",
    "        w = np.array(w, dtype=object) \n",
    "        if len(w) > max_len:\n",
    "            max_len = len(w)\n",
    "        symbols = [d_n_c[int(i[1:])] for i in w ]\n",
    "        print(symbols)\n",
    "        indices = [i for i, x in enumerate(symbols) if x == \"Pathway\"]\n",
    "        print(indices)\n",
    "        \n",
    "        lens = list()\n",
    "        st = 0 \n",
    "        print(len(symbols))\n",
    "        for i in range(len(symbols)):\n",
    "            if i in indices:\n",
    "                l = i-st+1\n",
    "                st = i+1\n",
    "                lens.append(l)\n",
    "        print(lens)\n",
    "        print(sum(lens))      \n",
    "        \n",
    "        print(sdfasd)\n",
    "                \n",
    "                \n",
    "                \n",
    "    print('Maximum Length: {}'.format(max_len))\n",
    "    patts_list = list(pat_set)\n",
    "    patts_list.sort(key=len)\n",
    "    return patts_list, dict_patt"
   ]
  },
  {
   "cell_type": "code",
   "execution_count": 39,
   "metadata": {},
   "outputs": [
    {
     "data": {
      "text/plain": [
       "dict_keys([4, 5, 6, 7, 8, 9, 10, 11, 12, 13, 14, 15, 16, 17, 18, 19, 20, 21, 25])"
      ]
     },
     "execution_count": 39,
     "metadata": {},
     "output_type": "execute_result"
    }
   ],
   "source": [
    "dict_len_to_patt_all.keys()"
   ]
  },
  {
   "cell_type": "code",
   "execution_count": 40,
   "metadata": {},
   "outputs": [
    {
     "name": "stdout",
     "output_type": "stream",
     "text": [
      "['Protein', 'BP', 'Protein', 'Pathway', 'Protein', 'BP', 'Protein', 'FD', 'Protein', 'Pathway', 'Protein', 'FD', 'Protein', 'FD', 'Protein', 'Pathway', 'Protein', 'BP', 'Protein', 'BP', 'Protein', 'Pathway', 'Protein', 'FD', 'Protein', 'MF', 'Protein', 'Pathway', 'Protein', 'FD', 'Protein', 'FD', 'Protein', 'Pathway', 'Protein', 'FD', 'Protein', 'FD', 'Protein', 'Pathway', 'Protein']\n",
      "[3, 9, 15, 21, 27, 33, 39]\n",
      "41\n",
      "[4, 6, 6, 6, 6, 6, 6]\n",
      "40\n"
     ]
    },
    {
     "ename": "NameError",
     "evalue": "name 'sdfasd' is not defined",
     "output_type": "error",
     "traceback": [
      "\u001b[0;31m---------------------------------------------------------------------------\u001b[0m",
      "\u001b[0;31mNameError\u001b[0m                                 Traceback (most recent call last)",
      "\u001b[0;32m<ipython-input-40-f88cec60b4c3>\u001b[0m in \u001b[0;36m<module>\u001b[0;34m\u001b[0m\n\u001b[1;32m      1\u001b[0m \u001b[0mwalk_file_all\u001b[0m \u001b[0;34m=\u001b[0m \u001b[0;34m'walks-pro-x-pro-path-40-40-graphpattern2vec-biased-v4_ALL1'\u001b[0m\u001b[0;34m\u001b[0m\u001b[0;34m\u001b[0m\u001b[0m\n\u001b[0;32m----> 2\u001b[0;31m \u001b[0mpatts_all\u001b[0m\u001b[0;34m,\u001b[0m \u001b[0md_patts_all\u001b[0m \u001b[0;34m=\u001b[0m \u001b[0mread_symbols_walks\u001b[0m\u001b[0;34m(\u001b[0m\u001b[0mpath\u001b[0m\u001b[0;34m,\u001b[0m \u001b[0mwalk_file_all\u001b[0m\u001b[0;34m,\u001b[0m \u001b[0md_n_c\u001b[0m\u001b[0;34m)\u001b[0m\u001b[0;34m\u001b[0m\u001b[0;34m\u001b[0m\u001b[0m\n\u001b[0m\u001b[1;32m      3\u001b[0m \u001b[0mlen\u001b[0m\u001b[0;34m(\u001b[0m\u001b[0mpatts_all\u001b[0m\u001b[0;34m)\u001b[0m\u001b[0;34m\u001b[0m\u001b[0;34m\u001b[0m\u001b[0m\n",
      "\u001b[0;32m<ipython-input-38-07cbb02ba6e7>\u001b[0m in \u001b[0;36mread_symbols_walks\u001b[0;34m(path, walk_file_name, d_n_c)\u001b[0m\n\u001b[1;32m     24\u001b[0m         \u001b[0mprint\u001b[0m\u001b[0;34m(\u001b[0m\u001b[0msum\u001b[0m\u001b[0;34m(\u001b[0m\u001b[0mlens\u001b[0m\u001b[0;34m)\u001b[0m\u001b[0;34m)\u001b[0m\u001b[0;34m\u001b[0m\u001b[0;34m\u001b[0m\u001b[0m\n\u001b[1;32m     25\u001b[0m \u001b[0;34m\u001b[0m\u001b[0m\n\u001b[0;32m---> 26\u001b[0;31m         \u001b[0mprint\u001b[0m\u001b[0;34m(\u001b[0m\u001b[0msdfasd\u001b[0m\u001b[0;34m)\u001b[0m\u001b[0;34m\u001b[0m\u001b[0;34m\u001b[0m\u001b[0m\n\u001b[0m\u001b[1;32m     27\u001b[0m \u001b[0;34m\u001b[0m\u001b[0m\n\u001b[1;32m     28\u001b[0m \u001b[0;34m\u001b[0m\u001b[0m\n",
      "\u001b[0;31mNameError\u001b[0m: name 'sdfasd' is not defined"
     ]
    }
   ],
   "source": [
    "walk_file_all = 'walks-pro-x-pro-path-40-40-graphpattern2vec-biased-v4_ALL1'\n",
    "patts_all, d_patts_all = read_symbols_walks(path, walk_file_all, d_n_c)\n",
    "len(patts_all)"
   ]
  },
  {
   "cell_type": "markdown",
   "metadata": {},
   "source": [
    "## ALL-vCH"
   ]
  },
  {
   "cell_type": "code",
   "execution_count": 18,
   "metadata": {},
   "outputs": [
    {
     "name": "stderr",
     "output_type": "stream",
     "text": [
      "6786400it [01:59, 56770.58it/s] "
     ]
    },
    {
     "name": "stdout",
     "output_type": "stream",
     "text": [
      "Maximum Length: 41\n"
     ]
    },
    {
     "name": "stderr",
     "output_type": "stream",
     "text": [
      "\n"
     ]
    },
    {
     "data": {
      "text/plain": [
       "166"
      ]
     },
     "execution_count": 18,
     "metadata": {},
     "output_type": "execute_result"
    }
   ],
   "source": [
    "walk_file_ch_all = 'walks-pro-x-pro-path-40-40-graphpattern2vec-biased-v4_ALL-vCH'\n",
    "patts_ch_all = read_symbols_walks(path, walk_file_ch_all, d_n_c)\n",
    "len(patts_ch_all)"
   ]
  },
  {
   "cell_type": "code",
   "execution_count": 19,
   "metadata": {
    "scrolled": false
   },
   "outputs": [
    {
     "name": "stdout",
     "output_type": "stream",
     "text": [
      "('Protein', 'MF', 'Protein', 'Pathway')\n",
      "('Protein', 'PTM', 'Protein', 'Pathway')\n",
      "('Protein', 'FD', 'Protein', 'Pathway')\n",
      "('Protein', 'BP', 'Protein', 'Pathway')\n",
      "('Protein', 'CC', 'Protein', 'Pathway')\n",
      "('Protein', 'BP', 'Protein', 'FD', 'Protein', 'Pathway')\n",
      "('Protein', 'BP', 'Protein', 'CC', 'Protein', 'Pathway')\n",
      "('Protein', 'CC', 'Protein', 'MF', 'Protein', 'Pathway')\n",
      "('Protein', 'PTM', 'Protein', 'MF', 'Protein', 'Pathway')\n",
      "('Protein', 'FD', 'Protein', 'FD', 'Protein', 'Pathway')\n",
      "('Protein', 'CC', 'Protein', 'CC', 'Protein', 'Pathway')\n",
      "('Protein', 'MF', 'Protein', 'BP', 'Protein', 'Pathway')\n",
      "('Protein', 'FD', 'Protein', 'PTM', 'Protein', 'Pathway')\n",
      "('Protein', 'FD', 'Protein', 'MF', 'Protein', 'Pathway')\n",
      "('Protein', 'BP', 'Protein', 'PTM', 'Protein', 'Pathway')\n",
      "('Protein', 'PTM', 'Protein', 'FD', 'Protein', 'Pathway')\n",
      "('Protein', 'BP', 'Protein', 'MF', 'Protein', 'Pathway')\n",
      "('Protein', 'PTM', 'Protein', 'BP', 'Protein', 'Pathway')\n",
      "('Protein', 'MF', 'Protein', 'MF', 'Protein', 'Pathway')\n",
      "('Protein', 'FD', 'Protein', 'BP', 'Protein', 'Pathway')\n",
      "('Protein', 'MF', 'Protein', 'FD', 'Protein', 'Pathway')\n",
      "('Protein', 'BP', 'Protein', 'BP', 'Protein', 'Pathway')\n",
      "('Protein', 'FD', 'Protein', 'CC', 'Protein', 'Pathway')\n",
      "('Protein', 'CC', 'Protein', 'FD', 'Protein', 'Pathway')\n",
      "('Protein', 'MF', 'Protein', 'PTM', 'Protein', 'Pathway')\n",
      "('Protein', 'PTM', 'Protein', 'CC', 'Protein', 'Pathway')\n",
      "('Protein', 'CC', 'Protein', 'BP', 'Protein', 'Pathway')\n",
      "('Protein', 'CC', 'Protein', 'PTM', 'Protein', 'Pathway')\n",
      "('Protein', 'MF', 'Protein', 'CC', 'Protein', 'Pathway')\n",
      "('Protein', 'PTM', 'Protein', 'PTM', 'Protein', 'Pathway')\n",
      "('Protein', 'Protein', 'PTM', 'Protein', 'PTM', 'Protein', 'Pathway')\n",
      "('Protein', 'Protein', 'BP', 'Protein', 'BP', 'Protein', 'Pathway')\n",
      "('Protein', 'Protein', 'CC', 'Protein', 'CC', 'Protein', 'Pathway')\n",
      "('Protein', 'Protein', 'MF', 'Protein', 'MF', 'Protein', 'Pathway')\n",
      "('Protein', 'Protein', 'FD', 'Protein', 'PTM', 'Protein', 'Pathway')\n",
      "('Protein', 'Protein', 'PTM', 'Protein', 'CC', 'Protein', 'Pathway')\n",
      "('Protein', 'Protein', 'MF', 'Protein', 'BP', 'Protein', 'Pathway')\n",
      "('Protein', 'Protein', 'BP', 'Protein', 'MF', 'Protein', 'Pathway')\n",
      "('Protein', 'Protein', 'PTM', 'Protein', 'FD', 'Protein', 'Pathway')\n",
      "('Protein', 'Protein', 'MF', 'Protein', 'CC', 'Protein', 'Pathway')\n",
      "('Protein', 'Protein', 'CC', 'Protein', 'MF', 'Protein', 'Pathway')\n",
      "('Protein', 'Protein', 'FD', 'Protein', 'FD', 'Protein', 'Pathway')\n",
      "('Protein', 'Protein', 'CC', 'Protein', 'BP', 'Protein', 'Pathway')\n",
      "('Protein', 'Protein', 'BP', 'Protein', 'CC', 'Protein', 'Pathway')\n",
      "('Protein', 'Protein', 'PTM', 'Protein', 'BP', 'Protein', 'Pathway')\n",
      "('Protein', 'Protein', 'BP', 'Protein', 'FD', 'Protein', 'Pathway')\n",
      "('Protein', 'Protein', 'FD', 'Protein', 'CC', 'Protein', 'Pathway')\n",
      "('Protein', 'Protein', 'MF', 'Protein', 'FD', 'Protein', 'Pathway')\n",
      "('Protein', 'Protein', 'CC', 'Protein', 'FD', 'Protein', 'Pathway')\n",
      "('Protein', 'Protein', 'FD', 'Protein', 'BP', 'Protein', 'Pathway')\n",
      "('Protein', 'Protein', 'FD', 'Protein', 'MF', 'Protein', 'Pathway')\n",
      "('Protein', 'Protein', 'Protein', 'CC', 'Protein', 'BP', 'Protein', 'Pathway')\n",
      "('Protein', 'Protein', 'Protein', 'FD', 'Protein', 'MF', 'Protein', 'Pathway')\n",
      "('Protein', 'Protein', 'Protein', 'MF', 'Protein', 'CC', 'Protein', 'Pathway')\n",
      "('Protein', 'Protein', 'Protein', 'BP', 'Protein', 'CC', 'Protein', 'Pathway')\n",
      "('Protein', 'Protein', 'Protein', 'FD', 'Protein', 'BP', 'Protein', 'Pathway')\n",
      "('Protein', 'Protein', 'Protein', 'CC', 'Protein', 'FD', 'Protein', 'Pathway')\n",
      "('Protein', 'Protein', 'Protein', 'MF', 'Protein', 'MF', 'Protein', 'Pathway')\n",
      "('Protein', 'Protein', 'Protein', 'MF', 'Protein', 'FD', 'Protein', 'Pathway')\n",
      "('Protein', 'Protein', 'Protein', 'BP', 'Protein', 'FD', 'Protein', 'Pathway')\n",
      "('Protein', 'Protein', 'Protein', 'BP', 'Protein', 'MF', 'Protein', 'Pathway')\n",
      "('Protein', 'Protein', 'Protein', 'CC', 'Protein', 'MF', 'Protein', 'Pathway')\n",
      "('Protein', 'Protein', 'Protein', 'BP', 'Protein', 'BP', 'Protein', 'Pathway')\n",
      "('Protein', 'Protein', 'Protein', 'MF', 'Protein', 'BP', 'Protein', 'Pathway')\n",
      "('Protein', 'Protein', 'Protein', 'FD', 'Protein', 'CC', 'Protein', 'Pathway')\n",
      "('Protein', 'Protein', 'Protein', 'CC', 'Protein', 'CC', 'Protein', 'Pathway')\n",
      "('Protein', 'Protein', 'Protein', 'FD', 'Protein', 'FD', 'Protein', 'Pathway')\n",
      "('Protein', 'Protein', 'Protein', 'Protein', 'BP', 'Protein', 'BP', 'Protein', 'Pathway')\n",
      "('Protein', 'Protein', 'Protein', 'Protein', 'CC', 'Protein', 'FD', 'Protein', 'Pathway')\n",
      "('Protein', 'Protein', 'Protein', 'Protein', 'MF', 'Protein', 'MF', 'Protein', 'Pathway')\n",
      "('Protein', 'Protein', 'Protein', 'Protein', 'BP', 'Protein', 'CC', 'Protein', 'Pathway')\n",
      "('Protein', 'Protein', 'Protein', 'Protein', 'FD', 'Protein', 'MF', 'Protein', 'Pathway')\n",
      "('Protein', 'Protein', 'Protein', 'Protein', 'MF', 'Protein', 'FD', 'Protein', 'Pathway')\n",
      "('Protein', 'Protein', 'Protein', 'Protein', 'PTM', 'Protein', 'FD', 'Protein', 'Pathway')\n",
      "('Protein', 'Protein', 'Protein', 'Protein', 'MF', 'Protein', 'CC', 'Protein', 'Pathway')\n",
      "('Protein', 'Protein', 'Protein', 'Protein', 'BP', 'Protein', 'FD', 'Protein', 'Pathway')\n",
      "('Protein', 'Protein', 'Protein', 'Protein', 'BP', 'Protein', 'MF', 'Protein', 'Pathway')\n",
      "('Protein', 'Protein', 'Protein', 'Protein', 'PTM', 'Protein', 'PTM', 'Protein', 'Pathway')\n",
      "('Protein', 'Protein', 'Protein', 'Protein', 'CC', 'Protein', 'MF', 'Protein', 'Pathway')\n",
      "('Protein', 'Protein', 'Protein', 'Protein', 'FD', 'Protein', 'CC', 'Protein', 'Pathway')\n",
      "('Protein', 'Protein', 'Protein', 'Protein', 'MF', 'Protein', 'BP', 'Protein', 'Pathway')\n",
      "('Protein', 'Protein', 'Protein', 'Protein', 'CC', 'Protein', 'CC', 'Protein', 'Pathway')\n",
      "('Protein', 'Protein', 'Protein', 'Protein', 'FD', 'Protein', 'FD', 'Protein', 'Pathway')\n",
      "('Protein', 'Protein', 'Protein', 'Protein', 'FD', 'Protein', 'BP', 'Protein', 'Pathway')\n",
      "('Protein', 'Protein', 'Protein', 'Protein', 'CC', 'Protein', 'BP', 'Protein', 'Pathway')\n",
      "('Protein', 'Protein', 'Protein', 'Protein', 'FD', 'Protein', 'PTM', 'Protein', 'Pathway')\n",
      "('Protein', 'Protein', 'Protein', 'Protein', 'Protein', 'MF', 'Protein', 'MF', 'Protein', 'Pathway')\n",
      "('Protein', 'Protein', 'Protein', 'Protein', 'Protein', 'CC', 'Protein', 'FD', 'Protein', 'Pathway')\n",
      "('Protein', 'Protein', 'Protein', 'Protein', 'Protein', 'BP', 'Protein', 'BP', 'Protein', 'Pathway')\n",
      "('Protein', 'Protein', 'Protein', 'Protein', 'Protein', 'FD', 'Protein', 'FD', 'Protein', 'Pathway')\n",
      "('Protein', 'Protein', 'Protein', 'Protein', 'Protein', 'MF', 'Protein', 'CC', 'Protein', 'Pathway')\n",
      "('Protein', 'Protein', 'Protein', 'Protein', 'Protein', 'BP', 'Protein', 'MF', 'Protein', 'Pathway')\n",
      "('Protein', 'Protein', 'Protein', 'Protein', 'Protein', 'FD', 'Protein', 'CC', 'Protein', 'Pathway')\n",
      "('Protein', 'Protein', 'Protein', 'Protein', 'Protein', 'MF', 'Protein', 'FD', 'Protein', 'Pathway')\n",
      "('Protein', 'Protein', 'Protein', 'Protein', 'Protein', 'CC', 'Protein', 'CC', 'Protein', 'Pathway')\n",
      "('Protein', 'Protein', 'Protein', 'Protein', 'Protein', 'FD', 'Protein', 'MF', 'Protein', 'Pathway')\n",
      "('Protein', 'Protein', 'Protein', 'Protein', 'Protein', 'CC', 'Protein', 'MF', 'Protein', 'Pathway')\n",
      "('Protein', 'Protein', 'Protein', 'Protein', 'Protein', 'MF', 'Protein', 'BP', 'Protein', 'Pathway')\n",
      "('Protein', 'Protein', 'Protein', 'Protein', 'Protein', 'BP', 'Protein', 'CC', 'Protein', 'Pathway')\n",
      "('Protein', 'Protein', 'Protein', 'Protein', 'Protein', 'BP', 'Protein', 'FD', 'Protein', 'Pathway')\n",
      "('Protein', 'Protein', 'Protein', 'Protein', 'Protein', 'FD', 'Protein', 'BP', 'Protein', 'Pathway')\n",
      "('Protein', 'Protein', 'Protein', 'Protein', 'Protein', 'CC', 'Protein', 'BP', 'Protein', 'Pathway')\n",
      "('Protein', 'Protein', 'Protein', 'Protein', 'Protein', 'Protein', 'FD', 'Protein', 'FD', 'Protein', 'Pathway')\n",
      "('Protein', 'Protein', 'Protein', 'Protein', 'Protein', 'Protein', 'FD', 'Protein', 'CC', 'Protein', 'Pathway')\n",
      "('Protein', 'Protein', 'Protein', 'Protein', 'Protein', 'Protein', 'MF', 'Protein', 'FD', 'Protein', 'Pathway')\n",
      "('Protein', 'Protein', 'Protein', 'Protein', 'Protein', 'Protein', 'BP', 'Protein', 'FD', 'Protein', 'Pathway')\n",
      "('Protein', 'Protein', 'Protein', 'Protein', 'Protein', 'Protein', 'BP', 'Protein', 'MF', 'Protein', 'Pathway')\n",
      "('Protein', 'Protein', 'Protein', 'Protein', 'Protein', 'Protein', 'MF', 'Protein', 'MF', 'Protein', 'Pathway')\n",
      "('Protein', 'Protein', 'Protein', 'Protein', 'Protein', 'Protein', 'CC', 'Protein', 'FD', 'Protein', 'Pathway')\n",
      "('Protein', 'Protein', 'Protein', 'Protein', 'Protein', 'Protein', 'BP', 'Protein', 'CC', 'Protein', 'Pathway')\n",
      "('Protein', 'Protein', 'Protein', 'Protein', 'Protein', 'Protein', 'MF', 'Protein', 'CC', 'Protein', 'Pathway')\n",
      "('Protein', 'Protein', 'Protein', 'Protein', 'Protein', 'Protein', 'MF', 'Protein', 'BP', 'Protein', 'Pathway')\n",
      "('Protein', 'Protein', 'Protein', 'Protein', 'Protein', 'Protein', 'BP', 'Protein', 'BP', 'Protein', 'Pathway')\n",
      "('Protein', 'Protein', 'Protein', 'Protein', 'Protein', 'Protein', 'CC', 'Protein', 'BP', 'Protein', 'Pathway')\n",
      "('Protein', 'Protein', 'Protein', 'Protein', 'Protein', 'Protein', 'FD', 'Protein', 'BP', 'Protein', 'Pathway')\n",
      "('Protein', 'Protein', 'Protein', 'Protein', 'Protein', 'Protein', 'CC', 'Protein', 'CC', 'Protein', 'Pathway')\n",
      "('Protein', 'Protein', 'Protein', 'Protein', 'Protein', 'Protein', 'CC', 'Protein', 'MF', 'Protein', 'Pathway')\n",
      "('Protein', 'Protein', 'Protein', 'Protein', 'Protein', 'Protein', 'FD', 'Protein', 'MF', 'Protein', 'Pathway')\n",
      "('Protein', 'Protein', 'Protein', 'Protein', 'Protein', 'Protein', 'Protein', 'MF', 'Protein', 'FD', 'Protein', 'Pathway')\n",
      "('Protein', 'Protein', 'Protein', 'Protein', 'Protein', 'Protein', 'Protein', 'BP', 'Protein', 'CC', 'Protein', 'Pathway')\n",
      "('Protein', 'Protein', 'Protein', 'Protein', 'Protein', 'Protein', 'Protein', 'MF', 'Protein', 'BP', 'Protein', 'Pathway')\n",
      "('Protein', 'Protein', 'Protein', 'Protein', 'Protein', 'Protein', 'Protein', 'FD', 'Protein', 'MF', 'Protein', 'Pathway')\n",
      "('Protein', 'Protein', 'Protein', 'Protein', 'Protein', 'Protein', 'Protein', 'CC', 'Protein', 'FD', 'Protein', 'Pathway')\n",
      "('Protein', 'Protein', 'Protein', 'Protein', 'Protein', 'Protein', 'Protein', 'FD', 'Protein', 'FD', 'Protein', 'Pathway')\n",
      "('Protein', 'Protein', 'Protein', 'Protein', 'Protein', 'Protein', 'Protein', 'FD', 'Protein', 'CC', 'Protein', 'Pathway')\n",
      "('Protein', 'Protein', 'Protein', 'Protein', 'Protein', 'Protein', 'Protein', 'MF', 'Protein', 'MF', 'Protein', 'Pathway')\n",
      "('Protein', 'Protein', 'Protein', 'Protein', 'Protein', 'Protein', 'Protein', 'CC', 'Protein', 'CC', 'Protein', 'Pathway')\n",
      "('Protein', 'Protein', 'Protein', 'Protein', 'Protein', 'Protein', 'Protein', 'BP', 'Protein', 'BP', 'Protein', 'Pathway')\n",
      "('Protein', 'Protein', 'Protein', 'Protein', 'Protein', 'Protein', 'Protein', 'BP', 'Protein', 'FD', 'Protein', 'Pathway')\n",
      "('Protein', 'Protein', 'Protein', 'Protein', 'Protein', 'Protein', 'Protein', 'MF', 'Protein', 'CC', 'Protein', 'Pathway')\n",
      "('Protein', 'Protein', 'Protein', 'Protein', 'Protein', 'Protein', 'Protein', 'CC', 'Protein', 'MF', 'Protein', 'Pathway')\n",
      "('Protein', 'Protein', 'Protein', 'Protein', 'Protein', 'Protein', 'Protein', 'BP', 'Protein', 'MF', 'Protein', 'Pathway')\n",
      "('Protein', 'Protein', 'Protein', 'Protein', 'Protein', 'Protein', 'Protein', 'CC', 'Protein', 'BP', 'Protein', 'Pathway')\n",
      "('Protein', 'Protein', 'Protein', 'Protein', 'Protein', 'Protein', 'Protein', 'FD', 'Protein', 'BP', 'Protein', 'Pathway')\n",
      "('Protein', 'Protein', 'Protein', 'Protein', 'Protein', 'Protein', 'Protein', 'Protein', 'FD', 'Protein', 'BP', 'Protein', 'Pathway')\n",
      "('Protein', 'Protein', 'Protein', 'Protein', 'Protein', 'Protein', 'Protein', 'Protein', 'MF', 'Protein', 'FD', 'Protein', 'Pathway')\n",
      "('Protein', 'Protein', 'Protein', 'Protein', 'Protein', 'Protein', 'Protein', 'Protein', 'BP', 'Protein', 'FD', 'Protein', 'Pathway')\n",
      "('Protein', 'Protein', 'Protein', 'Protein', 'Protein', 'Protein', 'Protein', 'Protein', 'FD', 'Protein', 'MF', 'Protein', 'Pathway')\n",
      "('Protein', 'Protein', 'Protein', 'Protein', 'Protein', 'Protein', 'Protein', 'Protein', 'MF', 'Protein', 'MF', 'Protein', 'Pathway')\n",
      "('Protein', 'Protein', 'Protein', 'Protein', 'Protein', 'Protein', 'Protein', 'Protein', 'BP', 'Protein', 'BP', 'Protein', 'Pathway')\n",
      "('Protein', 'Protein', 'Protein', 'Protein', 'Protein', 'Protein', 'Protein', 'Protein', 'BP', 'Protein', 'MF', 'Protein', 'Pathway')\n",
      "('Protein', 'Protein', 'Protein', 'Protein', 'Protein', 'Protein', 'Protein', 'Protein', 'CC', 'Protein', 'FD', 'Protein', 'Pathway')\n",
      "('Protein', 'Protein', 'Protein', 'Protein', 'Protein', 'Protein', 'Protein', 'Protein', 'CC', 'Protein', 'CC', 'Protein', 'Pathway')\n",
      "('Protein', 'Protein', 'Protein', 'Protein', 'Protein', 'Protein', 'Protein', 'Protein', 'FD', 'Protein', 'FD', 'Protein', 'Pathway')\n",
      "('Protein', 'Protein', 'Protein', 'Protein', 'Protein', 'Protein', 'Protein', 'Protein', 'CC', 'Protein', 'BP', 'Protein', 'Pathway')\n",
      "('Protein', 'Protein', 'Protein', 'Protein', 'Protein', 'Protein', 'Protein', 'Protein', 'CC', 'Protein', 'MF', 'Protein', 'Pathway')\n",
      "('Protein', 'Protein', 'Protein', 'Protein', 'Protein', 'Protein', 'Protein', 'Protein', 'FD', 'Protein', 'PTM', 'Protein', 'Pathway')\n",
      "('Protein', 'Protein', 'Protein', 'Protein', 'Protein', 'Protein', 'Protein', 'Protein', 'Protein', 'BP', 'Protein', 'BP', 'Protein', 'Pathway')\n",
      "('Protein', 'Protein', 'Protein', 'Protein', 'Protein', 'Protein', 'Protein', 'Protein', 'Protein', 'CC', 'Protein', 'CC', 'Protein', 'Pathway')\n",
      "('Protein', 'Protein', 'Protein', 'Protein', 'Protein', 'Protein', 'Protein', 'Protein', 'Protein', 'BP', 'Protein', 'MF', 'Protein', 'Pathway')\n",
      "('Protein', 'Protein', 'Protein', 'Protein', 'Protein', 'Protein', 'Protein', 'Protein', 'Protein', 'FD', 'Protein', 'MF', 'Protein', 'Pathway')\n",
      "('Protein', 'Protein', 'Protein', 'Protein', 'Protein', 'Protein', 'Protein', 'Protein', 'Protein', 'CC', 'Protein', 'BP', 'Protein', 'Pathway')\n",
      "('Protein', 'Protein', 'Protein', 'Protein', 'Protein', 'Protein', 'Protein', 'Protein', 'Protein', 'MF', 'Protein', 'MF', 'Protein', 'Pathway')\n",
      "('Protein', 'Protein', 'Protein', 'Protein', 'Protein', 'Protein', 'Protein', 'Protein', 'Protein', 'FD', 'Protein', 'FD', 'Protein', 'Pathway')\n",
      "('Protein', 'Protein', 'Protein', 'Protein', 'Protein', 'Protein', 'Protein', 'Protein', 'Protein', 'MF', 'Protein', 'FD', 'Protein', 'Pathway')\n",
      "('Protein', 'Protein', 'Protein', 'Protein', 'Protein', 'Protein', 'Protein', 'Protein', 'Protein', 'FD', 'Protein', 'BP', 'Protein', 'Pathway')\n",
      "('Protein', 'Protein', 'Protein', 'Protein', 'Protein', 'Protein', 'Protein', 'Protein', 'Protein', 'Protein', 'CC', 'Protein', 'BP', 'Protein', 'Pathway')\n",
      "('Protein', 'Protein', 'Protein', 'Protein', 'Protein', 'Protein', 'Protein', 'Protein', 'Protein', 'Protein', 'FD', 'Protein', 'FD', 'Protein', 'Pathway')\n",
      "('Protein', 'Protein', 'Protein', 'Protein', 'Protein', 'Protein', 'Protein', 'Protein', 'Protein', 'Protein', 'FD', 'Protein', 'BP', 'Protein', 'Pathway')\n",
      "('Protein', 'Protein', 'Protein', 'Protein', 'Protein', 'Protein', 'Protein', 'Protein', 'Protein', 'Protein', 'FD', 'Protein', 'CC', 'Protein', 'Pathway')\n",
      "('Protein', 'Protein', 'Protein', 'Protein', 'Protein', 'Protein', 'Protein', 'Protein', 'Protein', 'Protein', 'CC', 'Protein', 'FD', 'Protein', 'Pathway')\n",
      "('Protein', 'Protein', 'Protein', 'Protein', 'Protein', 'Protein', 'Protein', 'Protein', 'Protein', 'Protein', 'Protein', 'FD', 'Protein', 'FD', 'Protein', 'Pathway')\n",
      "('Protein', 'Protein', 'Protein', 'Protein', 'Protein', 'Protein', 'Protein', 'Protein', 'Protein', 'Protein', 'Protein', 'Protein', 'BP', 'Protein', 'BP', 'Protein', 'Pathway')\n",
      "('Protein', 'Protein', 'Protein', 'Protein', 'Protein', 'Protein', 'Protein', 'Protein', 'Protein', 'Protein', 'Protein', 'Protein', 'FD', 'Protein', 'FD', 'Protein', 'Pathway')\n",
      "('Protein', 'Protein', 'Protein', 'Protein', 'Protein', 'Protein', 'Protein', 'Protein', 'Protein', 'Protein', 'Protein', 'Protein', 'Protein', 'MF', 'Protein', 'BP', 'Protein', 'Pathway')\n",
      "('Protein', 'Protein', 'Protein', 'Protein', 'Protein', 'Protein', 'Protein', 'Protein', 'Protein', 'Protein', 'Protein', 'Protein', 'Protein', 'Protein', 'Protein', 'Protein', 'FD', 'Protein', 'BP', 'Protein', 'Pathway')\n"
     ]
    }
   ],
   "source": [
    "for ch in patts_ch_all:\n",
    "    print(ch)"
   ]
  },
  {
   "cell_type": "code",
   "execution_count": 23,
   "metadata": {},
   "outputs": [
    {
     "name": "stdout",
     "output_type": "stream",
     "text": [
      "0.9578313253012049 0.04216867469879518\n",
      "('Protein', 'Protein', 'Protein', 'Protein', 'Protein', 'Protein', 'Protein', 'Protein', 'Protein', 'CC', 'Protein', 'BP', 'Protein', 'Pathway')\n",
      "('Protein', 'Protein', 'Protein', 'Protein', 'Protein', 'Protein', 'Protein', 'Protein', 'Protein', 'Protein', 'Protein', 'Protein', 'Protein', 'Protein', 'Protein', 'Protein', 'FD', 'Protein', 'BP', 'Protein', 'Pathway')\n",
      "('Protein', 'Protein', 'Protein', 'Protein', 'Protein', 'Protein', 'Protein', 'Protein', 'FD', 'Protein', 'PTM', 'Protein', 'Pathway')\n",
      "('Protein', 'Protein', 'Protein', 'Protein', 'Protein', 'Protein', 'Protein', 'Protein', 'Protein', 'Protein', 'CC', 'Protein', 'BP', 'Protein', 'Pathway')\n",
      "('Protein', 'Protein', 'Protein', 'Protein', 'Protein', 'Protein', 'Protein', 'Protein', 'Protein', 'Protein', 'FD', 'Protein', 'CC', 'Protein', 'Pathway')\n",
      "('Protein', 'Protein', 'Protein', 'Protein', 'Protein', 'Protein', 'Protein', 'Protein', 'Protein', 'Protein', 'CC', 'Protein', 'FD', 'Protein', 'Pathway')\n",
      "('Protein', 'Protein', 'Protein', 'Protein', 'FD', 'Protein', 'PTM', 'Protein', 'Pathway')\n"
     ]
    }
   ],
   "source": [
    "f_ch_i_all = set()\n",
    "f_ch_ni_all = set()\n",
    "for i in patts_ch_all:\n",
    "    if i in patts_all:\n",
    "        f_ch_i_all.add(i)\n",
    "    else:\n",
    "        f_ch_ni_all.add(i)\n",
    "        \n",
    "print(len(f_ch_i_all)/len(patts_ch_all), len(f_ch_ni_all)/len(patts_ch_all))\n",
    "for i in f_ch_ni_all:\n",
    "    print(i)"
   ]
  },
  {
   "cell_type": "code",
   "execution_count": 28,
   "metadata": {},
   "outputs": [
    {
     "name": "stdout",
     "output_type": "stream",
     "text": [
      "0.24311926605504589 0.7568807339449541\n"
     ]
    },
    {
     "data": {
      "text/plain": [
       "[('Protein',\n",
       "  'Protein',\n",
       "  'Protein',\n",
       "  'MF',\n",
       "  'Protein',\n",
       "  'Protein',\n",
       "  'CC',\n",
       "  'Protein',\n",
       "  'Pathway'),\n",
       " ('Protein',\n",
       "  'Protein',\n",
       "  'CC',\n",
       "  'Protein',\n",
       "  'Protein',\n",
       "  'Protein',\n",
       "  'MF',\n",
       "  'Protein',\n",
       "  'Pathway'),\n",
       " ('Protein',\n",
       "  'Protein',\n",
       "  'Protein',\n",
       "  'Protein',\n",
       "  'Protein',\n",
       "  'Protein',\n",
       "  'Protein',\n",
       "  'Protein',\n",
       "  'Protein',\n",
       "  'Protein',\n",
       "  'Protein',\n",
       "  'Protein',\n",
       "  'MF',\n",
       "  'Protein',\n",
       "  'BP',\n",
       "  'Protein',\n",
       "  'Pathway')]"
      ]
     },
     "execution_count": 28,
     "metadata": {},
     "output_type": "execute_result"
    }
   ],
   "source": [
    "f_all_i_ch = set()\n",
    "f_all_ni_ch = set()\n",
    "for i in patts_all:\n",
    "    if i in patts_ch_all:\n",
    "        f_all_i_ch.add(i)\n",
    "    else:\n",
    "        f_all_ni_ch.add(i)\n",
    "        \n",
    "print(len(f_all_i_ch)/len(patts_all), len(f_all_ni_ch)/len(patts_all))\n",
    "# for i in f_ch_ni_all:\n",
    "#     print(i)\n",
    "len(f_all_ni_ch)\n",
    "list(f_all_ni_ch)[:3]"
   ]
  },
  {
   "cell_type": "code",
   "execution_count": null,
   "metadata": {},
   "outputs": [],
   "source": [
    "('v', 'f', 'v', 'a')\n",
    "('v', 'f', 'v', 'f', 'v', 'a')\n",
    "('v', 'v', 'f', 'v', 'f', 'v', 'a')\n",
    "('v', 'v', 'v', 'f', 'v', 'f', 'v', 'a')\n",
    "('v', 'v', 'v', 'v', 'f', 'v', 'f', 'v', 'a')\n",
    "('v', 'v', 'v', 'v', 'v', 'f', 'v', 'f', 'v', 'a')\n",
    "('v', 'v', 'v', 'v', 'v', 'v', 'f', 'v', 'f', 'v', 'a')\n",
    "('v', 'v', 'v', 'v', 'v', 'v', 'v', 'f', 'v', 'f', 'v', 'a')\n",
    "('v', 'v', 'v', 'v', 'v', 'v', 'v', 'v', 'f', 'v', 'f', 'v', 'a')\n",
    "('v', 'v', 'v', 'v', 'v', 'v', 'v', 'v', 'v', 'v', 'v', 'v', 'f', 'v', 'f', 'v', 'a')"
   ]
  },
  {
   "cell_type": "code",
   "execution_count": 13,
   "metadata": {},
   "outputs": [
    {
     "name": "stderr",
     "output_type": "stream",
     "text": [
      "4823320it [00:53, 90727.55it/s]"
     ]
    },
    {
     "name": "stdout",
     "output_type": "stream",
     "text": [
      "Maximum Length: 41\n"
     ]
    },
    {
     "name": "stderr",
     "output_type": "stream",
     "text": [
      "\n"
     ]
    },
    {
     "data": {
      "text/plain": [
       "12"
      ]
     },
     "execution_count": 13,
     "metadata": {},
     "output_type": "execute_result"
    }
   ],
   "source": [
    "walk_file_BPCCMF = 'walks-pro-x-pro-path-40-40-graphpattern2vec-biased-v4_BP1-CC1-MF2-v2'\n",
    "patts_BPCCMF= read_symbols_walks(path, walk_file_BPCCMF, d_n_c)\n",
    "len(patts_BPCCMF)"
   ]
  },
  {
   "cell_type": "code",
   "execution_count": 14,
   "metadata": {},
   "outputs": [
    {
     "name": "stdout",
     "output_type": "stream",
     "text": [
      "('Protein', 'MF', 'Protein', 'Pathway')\n",
      "('Protein', 'CC', 'Protein', 'Pathway')\n",
      "('Protein', 'BP', 'Protein', 'Pathway')\n",
      "('Protein', 'CC', 'Protein', 'CC', 'Protein', 'Pathway')\n",
      "('Protein', 'BP', 'Protein', 'BP', 'Protein', 'Pathway')\n",
      "('Protein', 'MF', 'Protein', 'MF', 'Protein', 'Pathway')\n",
      "('Protein', 'CC', 'Protein', 'MF', 'Protein', 'Pathway')\n",
      "('Protein', 'MF', 'Protein', 'CC', 'Protein', 'Pathway')\n",
      "('Protein', 'CC', 'Protein', 'BP', 'Protein', 'Pathway')\n",
      "('Protein', 'BP', 'Protein', 'CC', 'Protein', 'Pathway')\n",
      "('Protein', 'BP', 'Protein', 'MF', 'Protein', 'Pathway')\n",
      "('Protein', 'MF', 'Protein', 'BP', 'Protein', 'Pathway')\n"
     ]
    }
   ],
   "source": [
    "for ch in patts_BPCCMF:\n",
    "    print(ch)"
   ]
  },
  {
   "cell_type": "code",
   "execution_count": 17,
   "metadata": {},
   "outputs": [
    {
     "name": "stderr",
     "output_type": "stream",
     "text": [
      "4823320it [00:52, 91847.56it/s]"
     ]
    },
    {
     "name": "stdout",
     "output_type": "stream",
     "text": [
      "Maximum Length: 41\n"
     ]
    },
    {
     "name": "stderr",
     "output_type": "stream",
     "text": [
      "\n"
     ]
    },
    {
     "data": {
      "text/plain": [
       "12"
      ]
     },
     "execution_count": 17,
     "metadata": {},
     "output_type": "execute_result"
    }
   ],
   "source": [
    "walk_file_BPCCMF_vCH = 'walks-pro-x-pro-path-40-40-graphpattern2vec-biased-v4_BP1-CC1-MF2-vCH'\n",
    "patts_BPCCMF_vCH= read_symbols_walks(path, walk_file_BPCCMF_vCH, d_n_c)\n",
    "len(patts_BPCCMF_vCH)"
   ]
  },
  {
   "cell_type": "code",
   "execution_count": null,
   "metadata": {},
   "outputs": [],
   "source": [
    "walk_file_BP = 'walks-pro-x-pro-path-40-40-graphpattern2vec-biased-v4_BP1-v2'\n",
    "patts_BP= read_symbols_walks(path, walk_file_BP, d_n_c)\n",
    "len(patts_BP), patts_BP"
   ]
  },
  {
   "cell_type": "code",
   "execution_count": 15,
   "metadata": {},
   "outputs": [
    {
     "name": "stderr",
     "output_type": "stream",
     "text": [
      "5762280it [01:45, 54369.79it/s]"
     ]
    },
    {
     "name": "stdout",
     "output_type": "stream",
     "text": [
      "Maximum Length: 41\n"
     ]
    },
    {
     "name": "stderr",
     "output_type": "stream",
     "text": [
      "\n"
     ]
    },
    {
     "data": {
      "text/plain": [
       "2"
      ]
     },
     "execution_count": 15,
     "metadata": {},
     "output_type": "execute_result"
    }
   ],
   "source": [
    "walk_file_FD = 'walks-pro-x-pro-path-40-40-graphpattern2vec-biased-v4_FD1'\n",
    "patts_FD= read_symbols_walks(path, walk_file_FD, d_n_c)\n",
    "len(patts_FD)"
   ]
  },
  {
   "cell_type": "code",
   "execution_count": 16,
   "metadata": {},
   "outputs": [
    {
     "data": {
      "text/plain": [
       "[('Protein', 'FD', 'Protein', 'Pathway'),\n",
       " ('Protein', 'FD', 'Protein', 'FD', 'Protein', 'Pathway')]"
      ]
     },
     "execution_count": 16,
     "metadata": {},
     "output_type": "execute_result"
    }
   ],
   "source": [
    "patts_FD"
   ]
  },
  {
   "cell_type": "code",
   "execution_count": null,
   "metadata": {},
   "outputs": [],
   "source": []
  }
 ],
 "metadata": {
  "kernelspec": {
   "display_name": "Python [conda env:py37] *",
   "language": "python",
   "name": "conda-env-py37-py"
  },
  "language_info": {
   "codemirror_mode": {
    "name": "ipython",
    "version": 3
   },
   "file_extension": ".py",
   "mimetype": "text/x-python",
   "name": "python",
   "nbconvert_exporter": "python",
   "pygments_lexer": "ipython3",
   "version": "3.7.5"
  }
 },
 "nbformat": 4,
 "nbformat_minor": 2
}
