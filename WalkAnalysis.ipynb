{
 "cells": [
  {
   "cell_type": "code",
   "execution_count": 23,
   "metadata": {},
   "outputs": [],
   "source": [
    "import numpy as np\n",
    "import pandas as pd\n",
    "from tqdm import tqdm\n",
    "import random\n",
    "import matplotlib.pyplot as plt\n",
    "from sklearn.preprocessing import normalize\n",
    "import seaborn as sns\n",
    "import collections\n",
    "\n",
    "import pickle\n",
    "\n",
    "%matplotlib inline\n",
    "plt.style.use('seaborn-whitegrid')\n",
    "\n",
    "\n",
    "path = 'data/'\n",
    "\n",
    "# walk_file_name = 'walks-pro-x-pro-path-100-40-graphpattern2vec-biased-v2-rewire-merge_cc_train_while_loop_no_raise_all_pro'\n",
    "# walk_file_name = 'walks-pro-x-pro-path-100-40-graphpattern2vec-biased-v3-realBiased'"
   ]
  },
  {
   "cell_type": "code",
   "execution_count": 16,
   "metadata": {},
   "outputs": [],
   "source": [
    "class WalkAnalysis(object):\n",
    "    \n",
    "    def __init__(self, path, edge_file_name, walk_file_name):\n",
    "        \n",
    "        self.__merge_col_names = ['h','t','r', 'h_id', 't_id', 'r_id']\n",
    "        \n",
    "        self.__path = path\n",
    "        self.__merge_file_name = edge_file_name\n",
    "        self.__walk_file_name = walk_file_name\n",
    "        \n",
    "        self.__read_files()\n",
    "        self.__get_node_groupby()\n",
    "        self.__dict_from_walks()\n",
    "        \n",
    "        \n",
    "    def analysis(self):\n",
    "        d = self.__dict_wn\n",
    "        t = self.__dict_t\n",
    "        \n",
    "        dk, dv = zip(*d.items())\n",
    "        tk, tv = zip(*t.items())\n",
    "\n",
    "        print('analysis| dk: {}, dv: {}'.format(len(dk), len(dv)))\n",
    "        print('analysis| tk: {}, tv: {}'.format(len(tk), len(tv)))\n",
    "\n",
    "        sq = list()\n",
    "        for i in d:\n",
    "            node   = i\n",
    "            w_t_e  = t[i]\n",
    "            w_cnt    = d[i]\n",
    "            sq.append([node, w_t_e, w_cnt])\n",
    "            \n",
    "        print('analysis| seq: {}'.format(len(sq)))\n",
    "        \n",
    "        _, x, y = zip(*sq)\n",
    "        _ = plt.scatter(x, y)\n",
    "        plt.savefig(self.__path + 'dist_w_cnt_t_' + self.__walk_file_name + '.png')\n",
    "        \n",
    "    \n",
    "    def __draw_hist(self, a, bins='auto'):\n",
    "        print('min: {}, max: {}'.format(np.min(a), np.max(a)))\n",
    "        _ = plt.hist(a, bins=bins)  # arguments are passed to np.histogram\n",
    "        plt.title(\"Histogram with 'auto' bins\")\n",
    "\n",
    "        plt.show()\n",
    "        \n",
    "    def __get_node_groupby(self):\n",
    "        cols = self.__merge_col_names\n",
    "        df_m = self.__df_merge\n",
    "        \n",
    "        df_g_h_r = df_m.groupby([cols[3], cols[5]])[cols[4]].count().reset_index(name = cols[2] + '_count')\n",
    "        df_g_t_r = df_m.groupby([cols[4], cols[5]])[cols[3]].count().reset_index(name = cols[1] + '_count')\n",
    "        print('__get_node_groupby| df_g_h_r: {}, df_g_t_r: {}'.format(df_g_h_r.shape, df_g_t_r.shape))\n",
    "\n",
    "        dict_t = dict()\n",
    "        for i in df_g_h_r.itertuples():\n",
    "            h_id  = i[1]\n",
    "            r_id  = i[2]\n",
    "            count = i[3]\n",
    "\n",
    "            if h_id not in dict_t:\n",
    "                dict_t[h_id] = 0\n",
    "            dict_t[h_id] += count\n",
    "\n",
    "\n",
    "        print('__get_node_groupby| dict_t after first columns: {}'.format(len(dict_t)))\n",
    "        for i in df_g_t_r.itertuples():\n",
    "            t_id  = i[1]\n",
    "            r_id  = i[2]\n",
    "            count = i[3]\n",
    "\n",
    "            if t_id not in dict_t:\n",
    "                dict_t[t_id] = 0\n",
    "            dict_t[t_id] += count\n",
    "\n",
    "\n",
    "        print('__get_node_groupby| dict_t after second columns: {}'.format(len(dict_t)))\n",
    "\n",
    "        self.__dict_t = dict_t\n",
    "        \n",
    "    def __read_files(self):\n",
    "        mcols = self.__merge_col_names\n",
    "        \n",
    "        self.__df_merge = pd.read_csv(self.__path + self.__merge_file_name + '.csv'\n",
    "                                      , dtype={mcols[0]: object, mcols[1]: object, mcols[2]:object, mcols[3]:int\n",
    "                                               , mcols[4]:int, mcols[5]:int})\n",
    "        print('__read_processed_files| df_merge: {}'.format(self.__df_merge.shape))\n",
    "        \n",
    "    def __dict_from_walks(self):\n",
    "        tok_count = 0\n",
    "        set_line_len = set()\n",
    "        dict_line_len = dict()\n",
    "        dict_wn = dict()\n",
    "        for line in tqdm(open(self.__path + self.__walk_file_name, 'r')):\n",
    "            w = line.strip().split(' ')\n",
    "            w = np.array(w, dtype=object)\n",
    "            \n",
    "            if len(w) not in dict_line_len:\n",
    "                dict_line_len[len(w)] = 0\n",
    "            dict_line_len[len(w)] += 1\n",
    "            \n",
    "            set_line_len.add(len(w))\n",
    "            for i in w:\n",
    "                identifier = int(i[1:])\n",
    "                if identifier not in dict_wn:\n",
    "                    dict_wn[identifier] = 0\n",
    "                dict_wn[identifier]+=1\n",
    "                tok_count+=1\n",
    "        self.__dict_wn = dict_wn\n",
    "        print('__dict_from_walks| __dict_from_walks: {}'.format(len(self.__dict_wn)))\n",
    "        print('__dict_from_walks| token count: {}'.format(tok_count))\n",
    "        self.set_line_len = set_line_len\n",
    "        self.dict_line_len = dict_line_len\n",
    "        \n",
    "    def dict_lenght_walks(self):\n",
    "        dict_wn = dict()\n",
    "        lenght_walks = dict()\n",
    "        for line in tqdm(open(self.__path + self.__walk_file_name, 'r')):\n",
    "            w = line.strip().split(' ')\n",
    "            if len(w) not in lenght_walks:\n",
    "                lenght_walks[len(w)] = 0\n",
    "            lenght_walks[len(w)] += 1\n",
    "        return lenght_walks\n",
    "    \n",
    "    \n",
    "                \n",
    "    def get__dict_wn(self):\n",
    "        return self.__dict_wn\n",
    "    \n",
    "    def get__dict_t(self):\n",
    "        return self.__dict_t\n",
    "    "
   ]
  },
  {
   "cell_type": "markdown",
   "metadata": {},
   "source": [
    "# Process"
   ]
  },
  {
   "cell_type": "code",
   "execution_count": 38,
   "metadata": {},
   "outputs": [],
   "source": [
    "def process(walk_file_name):\n",
    "    wa = WalkAnalysis(path, 'df_merge_cc_train', walk_file_name)\n",
    "    d = wa.dict_line_len\n",
    "    d = collections.OrderedDict(sorted(d.items()))\n",
    "    total = sum(list(d.values()))\n",
    "    print('total: {}'.format(total))\n",
    "    \n",
    "    fig = plt.figure(figsize = (7,7))\n",
    "    x, y = d.keys(), np.array(list(d.values()))/total\n",
    "    plt.scatter(x, y)\n",
    "    \n",
    "    plt.savefig(path + 'len_hist_' + walk_file_name)\n",
    "    plt.show()\n",
    "    \n",
    "    return wa"
   ]
  },
  {
   "cell_type": "code",
   "execution_count": 39,
   "metadata": {},
   "outputs": [],
   "source": [
    "def load_node_to_class(data_path, node_to_class_file):\n",
    "    with open(data_path + node_to_class_file + '.pkl', 'rb') as f:\n",
    "        d_node_to_class = pickle.load(f)\n",
    "    print('load_node_to_class| __d_node_to_class: {}'.format(len(d_node_to_class)))\n",
    "    return d_node_to_class"
   ]
  },
  {
   "cell_type": "code",
   "execution_count": 40,
   "metadata": {},
   "outputs": [],
   "source": [
    "def generate_class_count(wa, d_n_c):\n",
    "    d_class_count = dict()\n",
    "    for i in d_n_c.values():\n",
    "        if i not in d_class_count:\n",
    "            d_class_count[i] = 0\n",
    "        d_class_count[i]+=1\n",
    "    d_class_count\n",
    "    a,b = np.array(list(d_class_count.keys())), np.array(list(d_class_count.values()))\n",
    "    perc_class_count = tuple(zip(a, b/sum(b)*100))\n",
    "    \n",
    "    d_node_wn = wa.get__dict_wn()\n",
    "    \n",
    "    err_c = 0\n",
    "    d_class_walks = dict()\n",
    "    for i in d_n_c:\n",
    "        c = d_n_c[i]\n",
    "        if c not in d_class_walks:\n",
    "            d_class_walks[c] = 0\n",
    "        try:\n",
    "            wn = d_node_wn[i]\n",
    "            d_class_walks[c] += wn\n",
    "        except KeyError:\n",
    "            err_c += 1\n",
    "    print(len(d_class_walks), err_c)\n",
    "    \n",
    "    a,b = np.array(list(d_class_walks.keys())), np.array(list(d_class_walks.values()))\n",
    "    perc_class_wn = tuple(zip(a, b/sum(b)*100))\n",
    "    print(perc_class_wn)\n",
    "    \n",
    "    return perc_class_wn\n",
    "\n",
    "def plot_scatter_class_count(class_counts, full_file_path):\n",
    "    fig = plt.figure(figsize = (7,7))\n",
    "    x, y = zip(*class_counts)\n",
    "    plt.scatter(x, y)\n",
    "    plt.savefig(full_file_path)\n",
    "    plt.show()\n",
    "    "
   ]
  },
  {
   "cell_type": "markdown",
   "metadata": {},
   "source": [
    "#### biased-v4_BP1-CC1-MF2"
   ]
  },
  {
   "cell_type": "code",
   "execution_count": 41,
   "metadata": {},
   "outputs": [
    {
     "name": "stdout",
     "output_type": "stream",
     "text": [
      "__read_processed_files| df_merge: (2851116, 6)\n",
      "__get_node_groupby| df_g_h_r: (466654, 3), df_g_t_r: (53540, 3)\n"
     ]
    },
    {
     "name": "stderr",
     "output_type": "stream",
     "text": [
      "4930it [00:00, 49298.75it/s]"
     ]
    },
    {
     "name": "stdout",
     "output_type": "stream",
     "text": [
      "__get_node_groupby| dict_t after first columns: 178320\n",
      "__get_node_groupby| dict_t after second columns: 212557\n"
     ]
    },
    {
     "name": "stderr",
     "output_type": "stream",
     "text": [
      "6786400it [02:22, 47519.22it/s]\n"
     ]
    },
    {
     "name": "stdout",
     "output_type": "stream",
     "text": [
      "__dict_from_walks| __dict_from_walks: 192932\n",
      "__dict_from_walks| token count: 272910185\n",
      "total: 6786400\n"
     ]
    },
    {
     "data": {
      "image/png": "[encoded data removed]",
      "text/plain": [
       "<Figure size 504x504 with 1 Axes>"
      ]
     },
     "metadata": {},
     "output_type": "display_data"
    },
    {
     "name": "stdout",
     "output_type": "stream",
     "text": [
      "load_node_to_class| __d_node_to_class: 212557\n",
      "7 19625\n",
      "(('Protein', 51.58191146292324), ('BP', 14.249408463813836), ('MF', 8.770615138456632), ('CC', 3.53693871850184), ('Pathway', 16.96692301901448), ('FD', 4.864900516629675), ('PTM', 0.02930268066030588))\n"
     ]
    },
    {
     "data": {
      "image/png": "[encoded data removed]",
      "text/plain": [
       "<Figure size 504x504 with 1 Axes>"
      ]
     },
     "metadata": {},
     "output_type": "display_data"
    }
   ],
   "source": [
    "walk_file_name = 'walks-pro-x-pro-path-40-40-graphpattern2vec-40-40-biased-v4_BP1-CC1-MF2'\n",
    "wa = process(walk_file_name)\n",
    "\n",
    "d_n_c = load_node_to_class('data/', 'dict_node_to_class')\n",
    "class_counts = generate_class_count(wa, d_n_c)\n",
    "plot_scatter_class_count(class_counts, path + 'class_count_hist_' + walk_file_name)"
   ]
  },
  {
   "cell_type": "code",
   "execution_count": null,
   "metadata": {},
   "outputs": [],
   "source": []
  },
  {
   "cell_type": "code",
   "execution_count": null,
   "metadata": {},
   "outputs": [],
   "source": []
  },
  {
   "cell_type": "code",
   "execution_count": null,
   "metadata": {},
   "outputs": [],
   "source": []
  },
  {
   "cell_type": "markdown",
   "metadata": {},
   "source": [
    "## biased-v3-realBiased"
   ]
  },
  {
   "cell_type": "code",
   "execution_count": 3,
   "metadata": {},
   "outputs": [
    {
     "name": "stdout",
     "output_type": "stream",
     "text": [
      "__read_processed_files| df_merge: (2851116, 6)\n",
      "__get_node_groupby| df_g_h_r: (466654, 3), df_g_t_r: (53540, 3)\n"
     ]
    },
    {
     "name": "stderr",
     "output_type": "stream",
     "text": [
      "4854it [00:00, 48533.45it/s]"
     ]
    },
    {
     "name": "stdout",
     "output_type": "stream",
     "text": [
      "__get_node_groupby| dict_t after first columns: 178320\n",
      "__get_node_groupby| dict_t after second columns: 212557\n"
     ]
    },
    {
     "name": "stderr",
     "output_type": "stream",
     "text": [
      "16966000it [06:07, 46212.39it/s]"
     ]
    },
    {
     "name": "stdout",
     "output_type": "stream",
     "text": [
      "__dict_from_walks| __dict_from_walks: 196430\n",
      "__dict_from_walks| token count: 639871573\n"
     ]
    },
    {
     "name": "stderr",
     "output_type": "stream",
     "text": [
      "\n"
     ]
    }
   ],
   "source": [
    "wa = WalkAnalysis(path, 'df_merge_cc_train', walk_file_name)"
   ]
  },
  {
   "cell_type": "code",
   "execution_count": 4,
   "metadata": {},
   "outputs": [
    {
     "data": {
      "text/plain": [
       "OrderedDict([(5, 476435),\n",
       "             (6, 30216),\n",
       "             (7, 1716),\n",
       "             (8, 1041),\n",
       "             (9, 148),\n",
       "             (10, 45),\n",
       "             (11, 422787),\n",
       "             (12, 24956),\n",
       "             (13, 2365),\n",
       "             (14, 1310),\n",
       "             (15, 237),\n",
       "             (16, 107),\n",
       "             (17, 391345),\n",
       "             (18, 23444),\n",
       "             (19, 2887),\n",
       "             (20, 1350),\n",
       "             (21, 1594),\n",
       "             (22, 153),\n",
       "             (23, 369889),\n",
       "             (24, 24007),\n",
       "             (25, 3280),\n",
       "             (26, 1535),\n",
       "             (27, 345),\n",
       "             (28, 152),\n",
       "             (29, 351052),\n",
       "             (30, 24309),\n",
       "             (31, 4253),\n",
       "             (32, 1629),\n",
       "             (33, 399),\n",
       "             (34, 178),\n",
       "             (35, 335745),\n",
       "             (36, 24665),\n",
       "             (37, 4077),\n",
       "             (38, 1751),\n",
       "             (39, 419),\n",
       "             (40, 197),\n",
       "             (41, 14435982)])"
      ]
     },
     "execution_count": 4,
     "metadata": {},
     "output_type": "execute_result"
    }
   ],
   "source": [
    "d = wa.dict_line_len\n",
    "d = collections.OrderedDict(sorted(d.items()))\n",
    "d # total 177899\n"
   ]
  },
  {
   "cell_type": "code",
   "execution_count": 5,
   "metadata": {},
   "outputs": [
    {
     "data": {
      "image/png": "[encoded data removed]",
      "text/plain": [
       "<Figure size 432x288 with 1 Axes>"
      ]
     },
     "metadata": {
      "needs_background": "light"
     },
     "output_type": "display_data"
    }
   ],
   "source": [
    "total = 177899\n",
    "x, y = d.keys(), np.array(list(d.values()))/total\n",
    "plt.scatter(x, y)\n",
    "plt.show()"
   ]
  },
  {
   "cell_type": "markdown",
   "metadata": {},
   "source": [
    "# Analysis of class of entities "
   ]
  },
  {
   "cell_type": "code",
   "execution_count": 6,
   "metadata": {},
   "outputs": [],
   "source": [
    "def load_node_to_class(data_path, node_to_class_file):\n",
    "    with open(data_path + node_to_class_file + '.pkl', 'rb') as f:\n",
    "        d_node_to_class = pickle.load(f)\n",
    "    print('load_node_to_class| __d_node_to_class: {}'.format(len(d_node_to_class)))\n",
    "    return d_node_to_class"
   ]
  },
  {
   "cell_type": "code",
   "execution_count": 7,
   "metadata": {},
   "outputs": [
    {
     "name": "stdout",
     "output_type": "stream",
     "text": [
      "load_node_to_class| __d_node_to_class: 212557\n"
     ]
    }
   ],
   "source": [
    "d_n_c = load_node_to_class('data/', 'dict_node_to_class')"
   ]
  },
  {
   "cell_type": "code",
   "execution_count": 11,
   "metadata": {},
   "outputs": [],
   "source": [
    "def generate_class_count(wa):\n",
    "    d_class_count = dict()\n",
    "    for i in d_n_c.values():\n",
    "        if i not in d_class_count:\n",
    "            d_class_count[i] = 0\n",
    "        d_class_count[i]+=1\n",
    "    d_class_count\n",
    "    a,b = np.array(list(d_class_count.keys())), np.array(list(d_class_count.values()))\n",
    "    perc_class_count = tuple(zip(a, b/sum(b)*100))\n",
    "    \n",
    "    d_node_wn = wa.get__dict_wn()\n",
    "    \n",
    "    err_c = 0\n",
    "    d_class_walks = dict()\n",
    "    for i in d_n_c:\n",
    "        c = d_n_c[i]\n",
    "        if c not in d_class_walks:\n",
    "            d_class_walks[c] = 0\n",
    "        try:\n",
    "            wn = d_node_wn[i]\n",
    "            d_class_walks[c] += wn\n",
    "        except KeyError:\n",
    "            err_c += 1\n",
    "    print(len(d_class_walks), err_c)\n",
    "    \n",
    "    a,b = np.array(list(d_class_walks.keys())), np.array(list(d_class_walks.values()))\n",
    "    perc_class_wn = tuple(zip(a, b/sum(b)*100))\n",
    "    print(perc_class_wn)\n",
    "    \n",
    "    return perc_class_wn"
   ]
  },
  {
   "cell_type": "code",
   "execution_count": 12,
   "metadata": {},
   "outputs": [
    {
     "name": "stdout",
     "output_type": "stream",
     "text": [
      "7 23200\n",
      "(('Protein', 84.63962929149805), ('BP', 7.869821298509894), ('MF', 2.2298986495705777), ('CC', 1.1058669352723824), ('Pathway', 0.6405816754896275), ('FD', 3.1949183615388748), ('PTM', 0.3192837881205865))\n"
     ]
    }
   ],
   "source": [
    "class_counts = generate_class_count(wa)"
   ]
  },
  {
   "cell_type": "code",
   "execution_count": 14,
   "metadata": {},
   "outputs": [
    {
     "data": {
      "image/png": "[encoded data removed]",
      "text/plain": [
       "<Figure size 432x288 with 1 Axes>"
      ]
     },
     "metadata": {
      "needs_background": "light"
     },
     "output_type": "display_data"
    }
   ],
   "source": [
    "x, y = zip(*class_counts)\n",
    "plt.scatter(x, y)\n",
    "plt.show()"
   ]
  },
  {
   "cell_type": "code",
   "execution_count": null,
   "metadata": {},
   "outputs": [],
   "source": []
  },
  {
   "cell_type": "code",
   "execution_count": null,
   "metadata": {},
   "outputs": [],
   "source": []
  },
  {
   "cell_type": "code",
   "execution_count": null,
   "metadata": {},
   "outputs": [],
   "source": []
  },
  {
   "cell_type": "markdown",
   "metadata": {},
   "source": [
    "# From Real Biased"
   ]
  },
  {
   "cell_type": "code",
   "execution_count": null,
   "metadata": {},
   "outputs": [],
   "source": [
    "walk_file_name = 'walks-pro-x-pro-path-100-40-graphpattern2vec-biased-v3-realBiased'\n",
    "wa_b = WalkAnalysis(path, 'df_merge_cc_train', walk_file_name)"
   ]
  },
  {
   "cell_type": "code",
   "execution_count": null,
   "metadata": {},
   "outputs": [],
   "source": [
    "d_b = wa_b.dict_line_len\n",
    "d_b = collections.OrderedDict(sorted(d.items()))\n",
    "d_b"
   ]
  },
  {
   "cell_type": "code",
   "execution_count": null,
   "metadata": {},
   "outputs": [],
   "source": [
    "d_n_c = generate_node_to_class_dict(df_merge)\n",
    "len(d_n_c)"
   ]
  },
  {
   "cell_type": "code",
   "execution_count": null,
   "metadata": {},
   "outputs": [],
   "source": [
    "generate_class_count(wa_b)"
   ]
  },
  {
   "cell_type": "markdown",
   "metadata": {},
   "source": [
    "## Experiment of effect of Walk Length and number of walks on Discovery Nodes \n",
    "##### FOR ALL: wc -l df_nodes_cc.csv -> 212558 - 1 and  in prepare_filter_only_connected_component| df_nodes_cc: (212557, 2)\n",
    "##### Comparing to experiment from _same_run11 with settings 100,40:\n",
    "      size of emb: 196431, count line: 196431, list chk: 196431\n",
    "      - dict_t after second ..-> 212557\n",
    "\n",
    "- Experiment setting: 150, 40 seed = 2 \n",
    "  - wc -l walks...        -> 25,449,000\n",
    "  - __dict_from_walks| __dict_from_walks: 196430\n",
    "- Experiment setting: 100, 80, seed = 2\n",
    "  - file name : walks-pro-x-pro-path-100-80-graphpattern2vec-biased-v2-rewire-merge_cc_train_walklen\n",
    "  - wc -l walks...        -> 16,966,000\n",
    "  - __dict_from_walks: 196430\n",
    "- Experiment setting: 100, 40, seed = 71\n",
    "  - file name : walks-pro-x-pro-path-100-40-graphpattern2vec-biased-v2-rewire-merge_cc_train_seed71\n",
    "  - wc -l walks...       -> 16,966,000\n",
    "  - __dict_from_walks: 196430\n",
    "- Experiment setting: 40, 40, seed = 2\n",
    "  - file name : walks-pro-x-pro-path-40-40-graphpattern2vec-biased-v2-rewire-merge_cc_train_numwalks\n",
    "  - wc -l walks...       -> 6,786,400 (pro_other: 169660 * numwalks = 40 )\n",
    "  - __dict_from_walks: 196430\n",
    "- Experiment setting: 1, 10, seed = 20\n",
    "  - file name : walks-pro-x-pro-path-1-10-graphpattern2vec-biased-v2-rewire-merge_cc_train_small\n",
    "  - wc -l walks...      -> 169660\n",
    "  - __dict_from_walks: 194253\n",
    "- Experiment setting: 1, 5, seed = 20\n",
    "  - file name: walks-pro-x-pro-path-1-5-graphpattern2vec-biased-v2-rewire-merge_cc_train_small\n",
    "  - wc -l walks...      -> 169660\n",
    "  - __dict_from_walks: 191781\n",
    "  \n",
    "- Experiment setting: 1, 5, seed = 20 <b>With WHILE LOOP</b>\n",
    "  - file name: walks-pro-x-pro-path-1-5-graphpattern2vec-biased-v2-rewire-merge_cc_train_while_loop\n",
    "  - wc -l walks...      -> 169660\n",
    "  - __dict_from_walks: 191332\n",
    "- Experiment setting: 1, 10, seed = 20 <b>With WHILE LOOP</b>\n",
    "  - file name : walks-pro-x-pro-path-1-10-graphpattern2vec-biased-v2-rewire-merge_cc_train_while_loop\n",
    "  - wc -l walks...      -> 169660\n",
    "  - __dict_from_walks: 193557"
   ]
  }
 ],
 "metadata": {
  "kernelspec": {
   "display_name": "Python [conda env:py37] *",
   "language": "python",
   "name": "conda-env-py37-py"
  },
  "language_info": {
   "codemirror_mode": {
    "name": "ipython",
    "version": 3
   },
   "file_extension": ".py",
   "mimetype": "text/x-python",
   "name": "python",
   "nbconvert_exporter": "python",
   "pygments_lexer": "ipython3",
   "version": "3.7.5"
  }
 },
 "nbformat": 4,
 "nbformat_minor": 2
}
